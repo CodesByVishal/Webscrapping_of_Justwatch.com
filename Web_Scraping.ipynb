{
  "cells": [
    {
      "cell_type": "markdown",
      "metadata": {
        "id": "view-in-github",
        "colab_type": "text"
      },
      "source": [
        "<a href=\"https://colab.research.google.com/github/CodesByVishal/Webscrapping_of_Justwatch.com/blob/main/Web_Scraping.ipynb\" target=\"_parent\"><img src=\"https://colab.research.google.com/assets/colab-badge.svg\" alt=\"Open In Colab\"/></a>"
      ]
    },
    {
      "cell_type": "code",
      "execution_count": 1,
      "id": "8dfd134f",
      "metadata": {
        "colab": {
          "base_uri": "https://localhost:8080/"
        },
        "id": "8dfd134f",
        "outputId": "9d8e3180-55d4-4f36-ff85-07b56271c972"
      },
      "outputs": [
        {
          "output_type": "stream",
          "name": "stdout",
          "text": [
            "Collecting bs4\n",
            "  Downloading bs4-0.0.2-py2.py3-none-any.whl (1.2 kB)\n",
            "Requirement already satisfied: beautifulsoup4 in /usr/local/lib/python3.10/dist-packages (from bs4) (4.12.3)\n",
            "Requirement already satisfied: soupsieve>1.2 in /usr/local/lib/python3.10/dist-packages (from beautifulsoup4->bs4) (2.5)\n",
            "Installing collected packages: bs4\n",
            "Successfully installed bs4-0.0.2\n"
          ]
        }
      ],
      "source": [
        "!pip install bs4\n",
        "# beautiful soup used to do Webscraping"
      ]
    },
    {
      "cell_type": "code",
      "execution_count": 2,
      "id": "731ce744",
      "metadata": {
        "colab": {
          "base_uri": "https://localhost:8080/"
        },
        "id": "731ce744",
        "outputId": "0c439bfa-fac3-4e82-f387-0eb94962308b"
      },
      "outputs": [
        {
          "output_type": "stream",
          "name": "stdout",
          "text": [
            "Requirement already satisfied: requests in /usr/local/lib/python3.10/dist-packages (2.31.0)\n",
            "Requirement already satisfied: charset-normalizer<4,>=2 in /usr/local/lib/python3.10/dist-packages (from requests) (3.3.2)\n",
            "Requirement already satisfied: idna<4,>=2.5 in /usr/local/lib/python3.10/dist-packages (from requests) (3.7)\n",
            "Requirement already satisfied: urllib3<3,>=1.21.1 in /usr/local/lib/python3.10/dist-packages (from requests) (2.0.7)\n",
            "Requirement already satisfied: certifi>=2017.4.17 in /usr/local/lib/python3.10/dist-packages (from requests) (2024.2.2)\n"
          ]
        }
      ],
      "source": [
        "! pip install requests"
      ]
    },
    {
      "cell_type": "code",
      "execution_count": 3,
      "id": "177dcb9e",
      "metadata": {
        "id": "177dcb9e"
      },
      "outputs": [],
      "source": [
        "from bs4 import BeautifulSoup\n",
        "import requests"
      ]
    },
    {
      "cell_type": "code",
      "execution_count": 4,
      "id": "6d75757b",
      "metadata": {
        "id": "6d75757b"
      },
      "outputs": [],
      "source": [
        "html_doc=\"\"\"<!DOCTYPE html>\n",
        "<html lang=\"en\">\n",
        "<head>\n",
        "    <meta charset=\"UTF-8\">\n",
        "    <meta name=\"viewport\" content=\"width=device-width, initial-scale=1.0\">\n",
        "    <title>Sample HTML Document</title>\n",
        "    <style>\n",
        "        .container {\n",
        "            max-width: 800px;\n",
        "            margin: 0 auto;\n",
        "            padding: 20px;\n",
        "            border: 1px solid #ccc;\n",
        "        }\n",
        "        .button {\n",
        "            display: inline-block;\n",
        "            padding: 10px 20px;\n",
        "            background-color: #007bff;\n",
        "            color: #fff;\n",
        "            text-decoration: none;\n",
        "            border-radius: 5px;\n",
        "        }\n",
        "    </style>\n",
        "</head>\n",
        "<body>\n",
        "    <header class=\"container\">\n",
        "        <h1>Welcome to My Website</h1>\n",
        "        <nav>\n",
        "            <ul>\n",
        "                <li><a href=\"#\">Home</a></li>\n",
        "                <li><a href=\"#\">About</a></li>\n",
        "                <li><a href=\"#\">Services</a></li>\n",
        "                <li><a href=\"#\">Contact</a></li>\n",
        "            </ul>\n",
        "        </nav>\n",
        "    </header>\n",
        "\n",
        "    <main class=\"container\">\n",
        "        <section>\n",
        "            <h2>About Us</h2>\n",
        "            <p>Lorem ipsum dolor sit amet, consectetur adipiscing elit. Sed do eiusmod tempor incididunt ut labore et dolore magna aliqua.</p>\n",
        "        </section>\n",
        "\n",
        "        <section>\n",
        "            <h2>Our Services</h2>\n",
        "            <ul>\n",
        "                <li>Service 1</li>\n",
        "                <li>Service 2</li>\n",
        "                <li>Service 3</li>\n",
        "            </ul>\n",
        "        </section>\n",
        "\n",
        "        <section>\n",
        "            <h2>Featured Products</h2>\n",
        "            <div class=\"product-container\">\n",
        "                <div class=\"product\" data-product-id=\"123\">\n",
        "                    <img src=\"product1.jpg\" alt=\"Product 1\">\n",
        "                    <h3>Product 1</h3>\n",
        "                    <p>$19.99</p>\n",
        "                    <a href=\"#\" class=\"button\">Add to Cart</a>\n",
        "                </div>\n",
        "                <div class=\"product\" data-product-id=\"456\">\n",
        "                    <img src=\"product2.jpg\" alt=\"Product 2\">\n",
        "                    <h3>Product 2</h3>\n",
        "                    <p>$24.99</p>\n",
        "                    <a href=\"#\" class=\"button\">Add to Cart</a>\n",
        "                </div>\n",
        "            </div>\n",
        "        </section>\n",
        "\n",
        "        <section>\n",
        "            <h2>Contact Us</h2>\n",
        "            <form class=\"contact-form\">\n",
        "                <label for=\"name\">Name:Alok</label>\n",
        "                <input type=\"text\" id=\"name\" name=\"name\">\n",
        "                <label for=\"email\">Email:</label>\n",
        "                <input type=\"email\" id=\"email\" name=\"email\">\n",
        "                <label for=\"message\">Message:</label>\n",
        "                <textarea id=\"message\" name=\"message\"></textarea>\n",
        "                <button type=\"submit\" class=\"button\">Send Message</button>\n",
        "            </form>\n",
        "        </section>\n",
        "\n",
        "        <section>\n",
        "            <h2>Related Links</h2>\n",
        "            <ul>\n",
        "                <li><a href=\"#\" target=\"_blank\">Link 1</a></li>\n",
        "                <li><a href=\"#\" target=\"_blank\">Link 2</a></li>\n",
        "                <li><a href=\"#\" target=\"_blank\">Link 3</a></li>\n",
        "            </ul>\n",
        "        </section>\n",
        "\n",
        "        <section>\n",
        "            <h2>Latest News</h2>\n",
        "            <table class=\"news-table\">\n",
        "                <thead>\n",
        "                    <tr>\n",
        "                        <th>Date</th>\n",
        "                        <th>Title</th>\n",
        "                        <th>Category</th>\n",
        "                    </tr>\n",
        "                </thead>\n",
        "                <tbody>\n",
        "                    <tr>\n",
        "                        <td>2024-05-01</td>\n",
        "                        <td>News 1</td>\n",
        "                        <td>General</td>\n",
        "                    </tr>\n",
        "                    <tr>\n",
        "                        <td>2024-05-02</td>\n",
        "                        <td>News 2</td>\n",
        "                        <td>Technology</td>\n",
        "                    </tr>\n",
        "                </tbody>\n",
        "            </table>\n",
        "        </section>\n",
        "\n",
        "        <section>\n",
        "            <h2>Company Location</h2>\n",
        "            <div class=\"map\">\n",
        "                <img src=\"map.jpg\" alt=\"Map\">\n",
        "            </div>\n",
        "        </section>\n",
        "    </main>\n",
        "\n",
        "    <footer class=\"container\">\n",
        "        <p>&copy; 2024 My Website. All rights reserved.</p>\n",
        "    </footer>\n",
        "</body>\n",
        "</html>\"\"\""
      ]
    },
    {
      "cell_type": "code",
      "execution_count": 5,
      "id": "42a27f8b",
      "metadata": {
        "colab": {
          "base_uri": "https://localhost:8080/"
        },
        "id": "42a27f8b",
        "outputId": "deda3884-c1b3-4982-a805-7409e911c4a8"
      },
      "outputs": [
        {
          "output_type": "execute_result",
          "data": {
            "text/plain": [
              "<!DOCTYPE html>\n",
              "\n",
              "<html lang=\"en\">\n",
              "<head>\n",
              "<meta charset=\"utf-8\"/>\n",
              "<meta content=\"width=device-width, initial-scale=1.0\" name=\"viewport\"/>\n",
              "<title>Sample HTML Document</title>\n",
              "<style>\n",
              "        .container {\n",
              "            max-width: 800px;\n",
              "            margin: 0 auto;\n",
              "            padding: 20px;\n",
              "            border: 1px solid #ccc;\n",
              "        }\n",
              "        .button {\n",
              "            display: inline-block;\n",
              "            padding: 10px 20px;\n",
              "            background-color: #007bff;\n",
              "            color: #fff;\n",
              "            text-decoration: none;\n",
              "            border-radius: 5px;\n",
              "        }\n",
              "    </style>\n",
              "</head>\n",
              "<body>\n",
              "<header class=\"container\">\n",
              "<h1>Welcome to My Website</h1>\n",
              "<nav>\n",
              "<ul>\n",
              "<li><a href=\"#\">Home</a></li>\n",
              "<li><a href=\"#\">About</a></li>\n",
              "<li><a href=\"#\">Services</a></li>\n",
              "<li><a href=\"#\">Contact</a></li>\n",
              "</ul>\n",
              "</nav>\n",
              "</header>\n",
              "<main class=\"container\">\n",
              "<section>\n",
              "<h2>About Us</h2>\n",
              "<p>Lorem ipsum dolor sit amet, consectetur adipiscing elit. Sed do eiusmod tempor incididunt ut labore et dolore magna aliqua.</p>\n",
              "</section>\n",
              "<section>\n",
              "<h2>Our Services</h2>\n",
              "<ul>\n",
              "<li>Service 1</li>\n",
              "<li>Service 2</li>\n",
              "<li>Service 3</li>\n",
              "</ul>\n",
              "</section>\n",
              "<section>\n",
              "<h2>Featured Products</h2>\n",
              "<div class=\"product-container\">\n",
              "<div class=\"product\" data-product-id=\"123\">\n",
              "<img alt=\"Product 1\" src=\"product1.jpg\"/>\n",
              "<h3>Product 1</h3>\n",
              "<p>$19.99</p>\n",
              "<a class=\"button\" href=\"#\">Add to Cart</a>\n",
              "</div>\n",
              "<div class=\"product\" data-product-id=\"456\">\n",
              "<img alt=\"Product 2\" src=\"product2.jpg\"/>\n",
              "<h3>Product 2</h3>\n",
              "<p>$24.99</p>\n",
              "<a class=\"button\" href=\"#\">Add to Cart</a>\n",
              "</div>\n",
              "</div>\n",
              "</section>\n",
              "<section>\n",
              "<h2>Contact Us</h2>\n",
              "<form class=\"contact-form\">\n",
              "<label for=\"name\">Name:Alok</label>\n",
              "<input id=\"name\" name=\"name\" type=\"text\"/>\n",
              "<label for=\"email\">Email:</label>\n",
              "<input id=\"email\" name=\"email\" type=\"email\"/>\n",
              "<label for=\"message\">Message:</label>\n",
              "<textarea id=\"message\" name=\"message\"></textarea>\n",
              "<button class=\"button\" type=\"submit\">Send Message</button>\n",
              "</form>\n",
              "</section>\n",
              "<section>\n",
              "<h2>Related Links</h2>\n",
              "<ul>\n",
              "<li><a href=\"#\" target=\"_blank\">Link 1</a></li>\n",
              "<li><a href=\"#\" target=\"_blank\">Link 2</a></li>\n",
              "<li><a href=\"#\" target=\"_blank\">Link 3</a></li>\n",
              "</ul>\n",
              "</section>\n",
              "<section>\n",
              "<h2>Latest News</h2>\n",
              "<table class=\"news-table\">\n",
              "<thead>\n",
              "<tr>\n",
              "<th>Date</th>\n",
              "<th>Title</th>\n",
              "<th>Category</th>\n",
              "</tr>\n",
              "</thead>\n",
              "<tbody>\n",
              "<tr>\n",
              "<td>2024-05-01</td>\n",
              "<td>News 1</td>\n",
              "<td>General</td>\n",
              "</tr>\n",
              "<tr>\n",
              "<td>2024-05-02</td>\n",
              "<td>News 2</td>\n",
              "<td>Technology</td>\n",
              "</tr>\n",
              "</tbody>\n",
              "</table>\n",
              "</section>\n",
              "<section>\n",
              "<h2>Company Location</h2>\n",
              "<div class=\"map\">\n",
              "<img alt=\"Map\" src=\"map.jpg\"/>\n",
              "</div>\n",
              "</section>\n",
              "</main>\n",
              "<footer class=\"container\">\n",
              "<p>© 2024 My Website. All rights reserved.</p>\n",
              "</footer>\n",
              "</body>\n",
              "</html>"
            ]
          },
          "metadata": {},
          "execution_count": 5
        }
      ],
      "source": [
        "soup=BeautifulSoup(html_doc,\"html.parser\")\n",
        "soup"
      ]
    },
    {
      "cell_type": "markdown",
      "id": "fd568abe",
      "metadata": {
        "id": "fd568abe"
      },
      "source": [
        "### fetch h1 tags"
      ]
    },
    {
      "cell_type": "code",
      "execution_count": 6,
      "id": "1ceccd93",
      "metadata": {
        "colab": {
          "base_uri": "https://localhost:8080/",
          "height": 35
        },
        "id": "1ceccd93",
        "outputId": "39e47626-0aa5-4811-a4b3-2d41a20e7933"
      },
      "outputs": [
        {
          "output_type": "execute_result",
          "data": {
            "text/plain": [
              "'Welcome to My Website'"
            ],
            "application/vnd.google.colaboratory.intrinsic+json": {
              "type": "string"
            }
          },
          "metadata": {},
          "execution_count": 6
        }
      ],
      "source": [
        "# fetch Welcome to my website\n",
        "# to fetch the first heading\n",
        "soup.find_all(\"header\",attrs={\"class\":\"container\"})[0].find_all(\"h1\")[0].text"
      ]
    },
    {
      "cell_type": "code",
      "execution_count": 6,
      "id": "ba70bc91",
      "metadata": {
        "id": "ba70bc91"
      },
      "outputs": [],
      "source": []
    },
    {
      "cell_type": "code",
      "execution_count": 7,
      "id": "868084c4",
      "metadata": {
        "colab": {
          "base_uri": "https://localhost:8080/",
          "height": 35
        },
        "id": "868084c4",
        "outputId": "e215d2d8-e3a8-4d54-8ea0-59a01ad15b85"
      },
      "outputs": [
        {
          "output_type": "execute_result",
          "data": {
            "text/plain": [
              "'Welcome to My Website'"
            ],
            "application/vnd.google.colaboratory.intrinsic+json": {
              "type": "string"
            }
          },
          "metadata": {},
          "execution_count": 7
        }
      ],
      "source": [
        "soup.find_all(\"h1\")[0].text"
      ]
    },
    {
      "cell_type": "markdown",
      "id": "6779e7cd",
      "metadata": {
        "id": "6779e7cd"
      },
      "source": [
        "### fetch h2 tags"
      ]
    },
    {
      "cell_type": "code",
      "execution_count": 8,
      "id": "0aee3ba2",
      "metadata": {
        "colab": {
          "base_uri": "https://localhost:8080/",
          "height": 35
        },
        "id": "0aee3ba2",
        "outputId": "a07d6b86-0a6e-41aa-9995-2a923e6bdd80"
      },
      "outputs": [
        {
          "output_type": "execute_result",
          "data": {
            "text/plain": [
              "'About Us'"
            ],
            "application/vnd.google.colaboratory.intrinsic+json": {
              "type": "string"
            }
          },
          "metadata": {},
          "execution_count": 8
        }
      ],
      "source": [
        "soup.find_all(\"h2\")[0].text"
      ]
    },
    {
      "cell_type": "code",
      "execution_count": 9,
      "id": "cbbb92c6",
      "metadata": {
        "colab": {
          "base_uri": "https://localhost:8080/"
        },
        "id": "cbbb92c6",
        "outputId": "621495f6-f5a6-4a64-a85f-5ffeca4fd4bb"
      },
      "outputs": [
        {
          "output_type": "execute_result",
          "data": {
            "text/plain": [
              "[<h2>About Us</h2>,\n",
              " <h2>Our Services</h2>,\n",
              " <h2>Featured Products</h2>,\n",
              " <h2>Contact Us</h2>,\n",
              " <h2>Related Links</h2>,\n",
              " <h2>Latest News</h2>,\n",
              " <h2>Company Location</h2>]"
            ]
          },
          "metadata": {},
          "execution_count": 9
        }
      ],
      "source": [
        "# find all h2 tags\n",
        "soup.find_all(\"h2\")"
      ]
    },
    {
      "cell_type": "code",
      "execution_count": 10,
      "id": "75db36c2",
      "metadata": {
        "colab": {
          "base_uri": "https://localhost:8080/",
          "height": 35
        },
        "id": "75db36c2",
        "outputId": "b3e23487-5961-4e82-c3a8-ba25563bfbcc"
      },
      "outputs": [
        {
          "output_type": "execute_result",
          "data": {
            "text/plain": [
              "'Related Links'"
            ],
            "application/vnd.google.colaboratory.intrinsic+json": {
              "type": "string"
            }
          },
          "metadata": {},
          "execution_count": 10
        }
      ],
      "source": [
        "# fetch Related links heading\n",
        "soup.find_all(\"h2\")[4].text"
      ]
    },
    {
      "cell_type": "code",
      "execution_count": 11,
      "id": "5b51e02f",
      "metadata": {
        "colab": {
          "base_uri": "https://localhost:8080/"
        },
        "id": "5b51e02f",
        "outputId": "432cf269-f037-4ba6-9a9f-09d796078ed3"
      },
      "outputs": [
        {
          "output_type": "execute_result",
          "data": {
            "text/plain": [
              "<section>\n",
              "<h2>Featured Products</h2>\n",
              "<div class=\"product-container\">\n",
              "<div class=\"product\" data-product-id=\"123\">\n",
              "<img alt=\"Product 1\" src=\"product1.jpg\"/>\n",
              "<h3>Product 1</h3>\n",
              "<p>$19.99</p>\n",
              "<a class=\"button\" href=\"#\">Add to Cart</a>\n",
              "</div>\n",
              "<div class=\"product\" data-product-id=\"456\">\n",
              "<img alt=\"Product 2\" src=\"product2.jpg\"/>\n",
              "<h3>Product 2</h3>\n",
              "<p>$24.99</p>\n",
              "<a class=\"button\" href=\"#\">Add to Cart</a>\n",
              "</div>\n",
              "</div>\n",
              "</section>"
            ]
          },
          "metadata": {},
          "execution_count": 11
        }
      ],
      "source": [
        "soup.find_all(\"main\",attrs={\"class\":\"container\"})[0].find_all(\"section\")[2]"
      ]
    },
    {
      "cell_type": "markdown",
      "id": "6493e41e",
      "metadata": {
        "id": "6493e41e"
      },
      "source": [
        "### fetch h3 tags"
      ]
    },
    {
      "cell_type": "code",
      "execution_count": 12,
      "id": "3ebc008d",
      "metadata": {
        "colab": {
          "base_uri": "https://localhost:8080/",
          "height": 35
        },
        "id": "3ebc008d",
        "outputId": "4f055a36-8fce-4e11-e050-52943e79351b"
      },
      "outputs": [
        {
          "output_type": "execute_result",
          "data": {
            "text/plain": [
              "'Product 1'"
            ],
            "application/vnd.google.colaboratory.intrinsic+json": {
              "type": "string"
            }
          },
          "metadata": {},
          "execution_count": 12
        }
      ],
      "source": [
        "soup.find_all(\"h3\")[0].text"
      ]
    },
    {
      "cell_type": "code",
      "execution_count": 13,
      "id": "70ee5434",
      "metadata": {
        "colab": {
          "base_uri": "https://localhost:8080/",
          "height": 35
        },
        "id": "70ee5434",
        "outputId": "1ebb887d-cbf6-49a2-96d9-092e41de655a"
      },
      "outputs": [
        {
          "output_type": "execute_result",
          "data": {
            "text/plain": [
              "'Product 2'"
            ],
            "application/vnd.google.colaboratory.intrinsic+json": {
              "type": "string"
            }
          },
          "metadata": {},
          "execution_count": 13
        }
      ],
      "source": [
        "soup.find_all(\"h3\")[1].text"
      ]
    },
    {
      "cell_type": "markdown",
      "id": "ad3d67f9",
      "metadata": {
        "id": "ad3d67f9"
      },
      "source": [
        "### fetch li tags\n",
        "\n",
        "\n"
      ]
    },
    {
      "cell_type": "raw",
      "id": "66e13edd",
      "metadata": {
        "id": "66e13edd"
      },
      "source": [
        "n HTML, the <li> tag is used to define a list item. It is commonly used within ordered lists (<ol>) and unordered lists (<ul>). Each <li> element represents a single item in the list."
      ]
    },
    {
      "cell_type": "code",
      "execution_count": 14,
      "id": "a63c49e5",
      "metadata": {
        "colab": {
          "base_uri": "https://localhost:8080/"
        },
        "id": "a63c49e5",
        "outputId": "d27ec213-833b-477b-f529-41e7c8f1891a"
      },
      "outputs": [
        {
          "output_type": "execute_result",
          "data": {
            "text/plain": [
              "[<li><a href=\"#\">Home</a></li>,\n",
              " <li><a href=\"#\">About</a></li>,\n",
              " <li><a href=\"#\">Services</a></li>,\n",
              " <li><a href=\"#\">Contact</a></li>,\n",
              " <li>Service 1</li>,\n",
              " <li>Service 2</li>,\n",
              " <li>Service 3</li>,\n",
              " <li><a href=\"#\" target=\"_blank\">Link 1</a></li>,\n",
              " <li><a href=\"#\" target=\"_blank\">Link 2</a></li>,\n",
              " <li><a href=\"#\" target=\"_blank\">Link 3</a></li>]"
            ]
          },
          "metadata": {},
          "execution_count": 14
        }
      ],
      "source": [
        "# fetch li tags\n",
        "soup.find_all(\"li\")"
      ]
    },
    {
      "cell_type": "code",
      "execution_count": 15,
      "id": "eb6e9ff9",
      "metadata": {
        "colab": {
          "base_uri": "https://localhost:8080/"
        },
        "id": "eb6e9ff9",
        "outputId": "9b2efe36-aaa9-43f9-bca0-ba15af20f85a"
      },
      "outputs": [
        {
          "output_type": "stream",
          "name": "stdout",
          "text": [
            "Home\n",
            "About\n",
            "Services\n",
            "Contact\n"
          ]
        }
      ],
      "source": [
        "# fetch home,about,services ,contact\n",
        "for i in soup.find_all(\"li\")[0:4]:\n",
        "    print(i.text)"
      ]
    },
    {
      "cell_type": "code",
      "execution_count": 16,
      "id": "7c3d700f",
      "metadata": {
        "colab": {
          "base_uri": "https://localhost:8080/"
        },
        "id": "7c3d700f",
        "outputId": "2978601f-b139-4780-8d1b-5bfd0fd59162"
      },
      "outputs": [
        {
          "output_type": "stream",
          "name": "stdout",
          "text": [
            "Service 1\n",
            "Service 2\n",
            "Service 3\n"
          ]
        }
      ],
      "source": [
        "# fetch service 1 , service 2 , sevice 3\n",
        "for i in soup.find_all(\"li\")[4:7]:\n",
        "    print(i.text)"
      ]
    },
    {
      "cell_type": "code",
      "execution_count": 17,
      "id": "bf7dc01f",
      "metadata": {
        "colab": {
          "base_uri": "https://localhost:8080/"
        },
        "id": "bf7dc01f",
        "outputId": "be69ace9-6ead-46d8-a854-f93be118d731"
      },
      "outputs": [
        {
          "output_type": "stream",
          "name": "stdout",
          "text": [
            "#\n",
            "#\n",
            "#\n",
            "#\n",
            "#\n",
            "#\n",
            "#\n",
            "#\n",
            "#\n"
          ]
        }
      ],
      "source": [
        "for i in  soup.find_all(\"a\"):\n",
        "    print(i[\"href\"])"
      ]
    },
    {
      "cell_type": "code",
      "execution_count": 18,
      "id": "a2423848",
      "metadata": {
        "colab": {
          "base_uri": "https://localhost:8080/"
        },
        "id": "a2423848",
        "outputId": "3e236f94-7175-4e3f-d5e2-7fa03ff437d7"
      },
      "outputs": [
        {
          "output_type": "stream",
          "name": "stdout",
          "text": [
            "#\n",
            "#\n",
            "#\n"
          ]
        }
      ],
      "source": [
        "# can you find href of link1 ,link2,link3\n",
        "for i in  soup.find_all(\"a\")[6:]:\n",
        "    print(i[\"href\"])\n"
      ]
    },
    {
      "cell_type": "code",
      "execution_count": 19,
      "id": "6bd50845",
      "metadata": {
        "colab": {
          "base_uri": "https://localhost:8080/",
          "height": 35
        },
        "id": "6bd50845",
        "outputId": "8d15c723-93e5-4f64-fcbe-bd855a6f0fe8"
      },
      "outputs": [
        {
          "output_type": "execute_result",
          "data": {
            "text/plain": [
              "'Lorem ipsum dolor sit amet, consectetur adipiscing elit. Sed do eiusmod tempor incididunt ut labore et dolore magna aliqua.'"
            ],
            "application/vnd.google.colaboratory.intrinsic+json": {
              "type": "string"
            }
          },
          "metadata": {},
          "execution_count": 19
        }
      ],
      "source": [
        "# fetch about us information\n",
        "soup.find_all(\"p\")[0].text"
      ]
    },
    {
      "cell_type": "code",
      "execution_count": 20,
      "id": "13450a9d",
      "metadata": {
        "colab": {
          "base_uri": "https://localhost:8080/",
          "height": 35
        },
        "id": "13450a9d",
        "outputId": "81782af8-1b47-4f94-8e00-bef3529b3737"
      },
      "outputs": [
        {
          "output_type": "execute_result",
          "data": {
            "text/plain": [
              "'© 2024 My Website. All rights reserved.'"
            ],
            "application/vnd.google.colaboratory.intrinsic+json": {
              "type": "string"
            }
          },
          "metadata": {},
          "execution_count": 20
        }
      ],
      "source": [
        "# fetch copyright information\n",
        "soup.find_all(\"p\")[3].text"
      ]
    },
    {
      "cell_type": "code",
      "execution_count": 21,
      "id": "4ecc6da6",
      "metadata": {
        "colab": {
          "base_uri": "https://localhost:8080/",
          "height": 35
        },
        "id": "4ecc6da6",
        "outputId": "ff63b574-7b1d-463c-cec4-1a62cdfc1666"
      },
      "outputs": [
        {
          "output_type": "execute_result",
          "data": {
            "text/plain": [
              "'© 2024 My Website. All rights reserved.'"
            ],
            "application/vnd.google.colaboratory.intrinsic+json": {
              "type": "string"
            }
          },
          "metadata": {},
          "execution_count": 21
        }
      ],
      "source": [
        "soup.find_all(\"footer\",attrs={\"class\":\"container\"})[0].find_all(\"p\")[0].text"
      ]
    },
    {
      "cell_type": "code",
      "execution_count": 22,
      "id": "169e3bc5",
      "metadata": {
        "colab": {
          "base_uri": "https://localhost:8080/"
        },
        "id": "169e3bc5",
        "outputId": "0e486c80-fea1-4d08-e574-f81e9d61b36c"
      },
      "outputs": [
        {
          "output_type": "execute_result",
          "data": {
            "text/plain": [
              "[<img alt=\"Product 1\" src=\"product1.jpg\"/>,\n",
              " <img alt=\"Product 2\" src=\"product2.jpg\"/>,\n",
              " <img alt=\"Map\" src=\"map.jpg\"/>]"
            ]
          },
          "metadata": {},
          "execution_count": 22
        }
      ],
      "source": [
        "# find  all images tags\n",
        "soup.find_all(\"img\")"
      ]
    },
    {
      "cell_type": "code",
      "execution_count": 23,
      "id": "b1063ec0",
      "metadata": {
        "colab": {
          "base_uri": "https://localhost:8080/",
          "height": 35
        },
        "id": "b1063ec0",
        "outputId": "29a61e5f-8673-47e3-ff87-ca1b20b17aaf"
      },
      "outputs": [
        {
          "output_type": "execute_result",
          "data": {
            "text/plain": [
              "'Map'"
            ],
            "application/vnd.google.colaboratory.intrinsic+json": {
              "type": "string"
            }
          },
          "metadata": {},
          "execution_count": 23
        }
      ],
      "source": [
        "# fetch Map\n",
        "soup.find_all(\"img\")[2][\"alt\"]"
      ]
    },
    {
      "cell_type": "code",
      "execution_count": 24,
      "id": "c53cb3c4",
      "metadata": {
        "colab": {
          "base_uri": "https://localhost:8080/",
          "height": 35
        },
        "id": "c53cb3c4",
        "outputId": "f1150fb4-9da1-419f-e22c-15625db977e7"
      },
      "outputs": [
        {
          "output_type": "execute_result",
          "data": {
            "text/plain": [
              "'map.jpg'"
            ],
            "application/vnd.google.colaboratory.intrinsic+json": {
              "type": "string"
            }
          },
          "metadata": {},
          "execution_count": 24
        }
      ],
      "source": [
        "# fetch map.jpg\n",
        "soup.find_all(\"img\")[2]['src']"
      ]
    },
    {
      "cell_type": "code",
      "execution_count": 25,
      "id": "3ea62b98",
      "metadata": {
        "colab": {
          "base_uri": "https://localhost:8080/"
        },
        "id": "3ea62b98",
        "outputId": "705fc7b1-49d3-480e-acc0-98493b9fca96"
      },
      "outputs": [
        {
          "output_type": "execute_result",
          "data": {
            "text/plain": [
              "[<th>Date</th>, <th>Title</th>, <th>Category</th>]"
            ]
          },
          "metadata": {},
          "execution_count": 25
        }
      ],
      "source": [
        "#th: table header\n",
        "# td = table row values\n",
        "# fetch all header names\n",
        "soup.find_all(\"th\")"
      ]
    },
    {
      "cell_type": "code",
      "execution_count": 26,
      "id": "d07a78ab",
      "metadata": {
        "scrolled": true,
        "colab": {
          "base_uri": "https://localhost:8080/"
        },
        "id": "d07a78ab",
        "outputId": "1f6ee042-8481-4e5d-e787-4dbb0e8288a5"
      },
      "outputs": [
        {
          "output_type": "stream",
          "name": "stdout",
          "text": [
            "Date\n",
            "Title\n",
            "Category\n"
          ]
        }
      ],
      "source": [
        "for i in soup.find_all(\"th\"):\n",
        "    print(i.text)"
      ]
    },
    {
      "cell_type": "code",
      "execution_count": 27,
      "id": "77b46260",
      "metadata": {
        "colab": {
          "base_uri": "https://localhost:8080/"
        },
        "id": "77b46260",
        "outputId": "b07bca72-1f81-4909-9d33-89d7b6984fc3"
      },
      "outputs": [
        {
          "output_type": "execute_result",
          "data": {
            "text/plain": [
              "[<td>2024-05-01</td>,\n",
              " <td>News 1</td>,\n",
              " <td>General</td>,\n",
              " <td>2024-05-02</td>,\n",
              " <td>News 2</td>,\n",
              " <td>Technology</td>]"
            ]
          },
          "metadata": {},
          "execution_count": 27
        }
      ],
      "source": [
        "# fetch table data\n",
        "soup.find_all(\"td\")"
      ]
    },
    {
      "cell_type": "code",
      "execution_count": 28,
      "id": "02f825a0",
      "metadata": {
        "colab": {
          "base_uri": "https://localhost:8080/"
        },
        "id": "02f825a0",
        "outputId": "6d5eae24-1624-4ee4-91e8-05043a9200fb"
      },
      "outputs": [
        {
          "output_type": "stream",
          "name": "stdout",
          "text": [
            "2024-05-01\n",
            "News 1\n",
            "General\n",
            "2024-05-02\n",
            "News 2\n",
            "Technology\n"
          ]
        }
      ],
      "source": [
        "for i in soup.find_all(\"td\"):\n",
        "    print(i.text)"
      ]
    },
    {
      "cell_type": "code",
      "execution_count": 29,
      "id": "249fd751",
      "metadata": {
        "colab": {
          "base_uri": "https://localhost:8080/"
        },
        "id": "249fd751",
        "outputId": "b58fe766-8ee5-4a5f-e1fd-d0b1179b8c81"
      },
      "outputs": [
        {
          "output_type": "execute_result",
          "data": {
            "text/plain": [
              "[<div class=\"product-container\">\n",
              " <div class=\"product\" data-product-id=\"123\">\n",
              " <img alt=\"Product 1\" src=\"product1.jpg\"/>\n",
              " <h3>Product 1</h3>\n",
              " <p>$19.99</p>\n",
              " <a class=\"button\" href=\"#\">Add to Cart</a>\n",
              " </div>\n",
              " <div class=\"product\" data-product-id=\"456\">\n",
              " <img alt=\"Product 2\" src=\"product2.jpg\"/>\n",
              " <h3>Product 2</h3>\n",
              " <p>$24.99</p>\n",
              " <a class=\"button\" href=\"#\">Add to Cart</a>\n",
              " </div>\n",
              " </div>,\n",
              " <div class=\"product\" data-product-id=\"123\">\n",
              " <img alt=\"Product 1\" src=\"product1.jpg\"/>\n",
              " <h3>Product 1</h3>\n",
              " <p>$19.99</p>\n",
              " <a class=\"button\" href=\"#\">Add to Cart</a>\n",
              " </div>,\n",
              " <div class=\"product\" data-product-id=\"456\">\n",
              " <img alt=\"Product 2\" src=\"product2.jpg\"/>\n",
              " <h3>Product 2</h3>\n",
              " <p>$24.99</p>\n",
              " <a class=\"button\" href=\"#\">Add to Cart</a>\n",
              " </div>,\n",
              " <div class=\"map\">\n",
              " <img alt=\"Map\" src=\"map.jpg\"/>\n",
              " </div>]"
            ]
          },
          "metadata": {},
          "execution_count": 29
        }
      ],
      "source": [
        "soup.find_all(\"div\")"
      ]
    },
    {
      "cell_type": "markdown",
      "id": "bf3211d6",
      "metadata": {
        "id": "bf3211d6"
      },
      "source": [
        "# Webscraping with IMDB website"
      ]
    },
    {
      "cell_type": "code",
      "execution_count": 30,
      "id": "f26bf61d",
      "metadata": {
        "id": "f26bf61d"
      },
      "outputs": [],
      "source": [
        "url=\"https://www.justwatch.com/in/movie/family-star\"\n",
        "page_con=requests.get(url)\n",
        "soup=BeautifulSoup(page_con.text,\"html.parser\")"
      ]
    },
    {
      "cell_type": "markdown",
      "id": "07c21273",
      "metadata": {
        "id": "07c21273"
      },
      "source": [
        "### fetch movie title"
      ]
    },
    {
      "cell_type": "code",
      "execution_count": 31,
      "id": "bfda6f3c",
      "metadata": {
        "colab": {
          "base_uri": "https://localhost:8080/",
          "height": 35
        },
        "id": "bfda6f3c",
        "outputId": "d7837541-fd46-44e8-ecde-63a1d74ffd43"
      },
      "outputs": [
        {
          "output_type": "execute_result",
          "data": {
            "text/plain": [
              "'Family Star'"
            ],
            "application/vnd.google.colaboratory.intrinsic+json": {
              "type": "string"
            }
          },
          "metadata": {},
          "execution_count": 31
        }
      ],
      "source": [
        "# fetch movie title\n",
        "soup.find_all(\"h1\")[0].text.strip()"
      ]
    },
    {
      "cell_type": "code",
      "execution_count": 32,
      "id": "4bbc1705",
      "metadata": {
        "colab": {
          "base_uri": "https://localhost:8080/",
          "height": 35
        },
        "id": "4bbc1705",
        "outputId": "4ffe88d1-350b-4a46-9b06-a84103bb6ca9"
      },
      "outputs": [
        {
          "output_type": "execute_result",
          "data": {
            "text/plain": [
              "'Family Star'"
            ],
            "application/vnd.google.colaboratory.intrinsic+json": {
              "type": "string"
            }
          },
          "metadata": {},
          "execution_count": 32
        }
      ],
      "source": [
        "# fetch movie name\n",
        "soup.find_all(\"div\",attrs={\"data-testid\":\"titleBlock\"})[0].find_all(\"h1\")[0].text.strip()"
      ]
    },
    {
      "cell_type": "markdown",
      "id": "af03932c",
      "metadata": {
        "id": "af03932c"
      },
      "source": [
        "### fetch year"
      ]
    },
    {
      "cell_type": "code",
      "execution_count": 33,
      "id": "83301804",
      "metadata": {
        "colab": {
          "base_uri": "https://localhost:8080/",
          "height": 35
        },
        "id": "83301804",
        "outputId": "1fce2cc4-a1b4-4ad0-bb9f-7aeefa818dc4"
      },
      "outputs": [
        {
          "output_type": "execute_result",
          "data": {
            "text/plain": [
              "'(2024)'"
            ],
            "application/vnd.google.colaboratory.intrinsic+json": {
              "type": "string"
            }
          },
          "metadata": {},
          "execution_count": 33
        }
      ],
      "source": [
        "soup.find_all(\"span\",attrs={\"class\":\"text-muted\"})[0].text.strip()"
      ]
    },
    {
      "cell_type": "code",
      "execution_count": 34,
      "id": "d5f85122",
      "metadata": {
        "colab": {
          "base_uri": "https://localhost:8080/",
          "height": 35
        },
        "id": "d5f85122",
        "outputId": "9f479e93-db07-44ae-f8c9-e096d23d8cf7"
      },
      "outputs": [
        {
          "output_type": "execute_result",
          "data": {
            "text/plain": [
              "'(2024)'"
            ],
            "application/vnd.google.colaboratory.intrinsic+json": {
              "type": "string"
            }
          },
          "metadata": {},
          "execution_count": 34
        }
      ],
      "source": [
        "soup.find_all('div',attrs={'data-testid':'titleBlock'})[0].find_all(\"span\")[0].text.strip()"
      ]
    },
    {
      "cell_type": "code",
      "execution_count": 35,
      "id": "50d48e61",
      "metadata": {
        "colab": {
          "base_uri": "https://localhost:8080/",
          "height": 35
        },
        "id": "50d48e61",
        "outputId": "51f6cbeb-b7ae-489b-c8b4-0d1a04d22fc0"
      },
      "outputs": [
        {
          "output_type": "execute_result",
          "data": {
            "text/plain": [
              "' (2024) '"
            ],
            "application/vnd.google.colaboratory.intrinsic+json": {
              "type": "string"
            }
          },
          "metadata": {},
          "execution_count": 35
        }
      ],
      "source": [
        "soup.find_all(\"div\",attrs={\"class\":\"title-block\"})[0].find_all(\"span\")[0].text"
      ]
    },
    {
      "cell_type": "markdown",
      "id": "542ca5b3",
      "metadata": {
        "id": "542ca5b3"
      },
      "source": [
        "### fetch imdb rating"
      ]
    },
    {
      "cell_type": "code",
      "execution_count": 36,
      "id": "d309b546",
      "metadata": {
        "colab": {
          "base_uri": "https://localhost:8080/",
          "height": 35
        },
        "id": "d309b546",
        "outputId": "7967ffcb-c9d3-49ef-d1b4-f0c29791137a"
      },
      "outputs": [
        {
          "output_type": "execute_result",
          "data": {
            "text/plain": [
              "' 5.1  (2k) '"
            ],
            "application/vnd.google.colaboratory.intrinsic+json": {
              "type": "string"
            }
          },
          "metadata": {},
          "execution_count": 36
        }
      ],
      "source": [
        "for i in soup.find_all(\"div\",attrs={\"class\":\"detail-infos\"}):\n",
        "    if i.find_all(\"h3\",attrs={\"class\":\"detail-infos__subheading\"})[0].text==\"Rating\":\n",
        "        rating= i.find_all(\"div\",attrs={\"class\":\"detail-infos__value\"})[0].text\n",
        "rating"
      ]
    },
    {
      "cell_type": "code",
      "execution_count": 37,
      "id": "043633c1",
      "metadata": {
        "colab": {
          "base_uri": "https://localhost:8080/",
          "height": 35
        },
        "id": "043633c1",
        "outputId": "ca7df66c-8421-44d5-b572-8475636fe9dc"
      },
      "outputs": [
        {
          "output_type": "execute_result",
          "data": {
            "text/plain": [
              "' 5.1  (2k) '"
            ],
            "application/vnd.google.colaboratory.intrinsic+json": {
              "type": "string"
            }
          },
          "metadata": {},
          "execution_count": 37
        }
      ],
      "source": [
        "for i in soup.find_all(\"div\",attrs={\"class\":\"detail-infos\"}):\n",
        "    if i.find_all(\"h3\",attrs={\"class\":\"detail-infos__subheading\"})[0].text==\"Rating\":\n",
        "        rating=i.find_all('div',attrs={'class':'detail-infos__value'})[0].text\n",
        "rating"
      ]
    },
    {
      "cell_type": "markdown",
      "id": "b7fcf98b",
      "metadata": {
        "id": "b7fcf98b"
      },
      "source": [
        "### fetch Genres"
      ]
    },
    {
      "cell_type": "code",
      "execution_count": 38,
      "id": "36918331",
      "metadata": {
        "colab": {
          "base_uri": "https://localhost:8080/",
          "height": 35
        },
        "id": "36918331",
        "outputId": "6c54eebc-9ad1-4e92-ae09-1ed396d276ac"
      },
      "outputs": [
        {
          "output_type": "execute_result",
          "data": {
            "text/plain": [
              "'Action & Adventure, Drama, Comedy, Romance'"
            ],
            "application/vnd.google.colaboratory.intrinsic+json": {
              "type": "string"
            }
          },
          "metadata": {},
          "execution_count": 38
        }
      ],
      "source": [
        "for i in soup.find_all(\"div\",attrs={\"class\":\"detail-infos\"}):\n",
        "    if i .find_all(\"h3\",attrs={\"class\":\"detail-infos__subheading\"})[0].text==\"Genres\":\n",
        "        Genres=i.find_all(\"div\",attrs={\"class\":\"detail-infos__value\"})[0].text\n",
        "Genres"
      ]
    },
    {
      "cell_type": "markdown",
      "id": "19be0035",
      "metadata": {
        "id": "19be0035"
      },
      "source": [
        "### fetch runtime"
      ]
    },
    {
      "cell_type": "code",
      "execution_count": 39,
      "id": "f3f11e11",
      "metadata": {
        "colab": {
          "base_uri": "https://localhost:8080/",
          "height": 35
        },
        "id": "f3f11e11",
        "outputId": "d8885775-ca8a-41a1-f8df-a009f2b37813"
      },
      "outputs": [
        {
          "output_type": "execute_result",
          "data": {
            "text/plain": [
              "'2h 39min'"
            ],
            "application/vnd.google.colaboratory.intrinsic+json": {
              "type": "string"
            }
          },
          "metadata": {},
          "execution_count": 39
        }
      ],
      "source": [
        "for i in soup.find_all(\"div\",attrs={\"class\":\"detail-infos\"}):\n",
        "    if i.find_all(\"h3\",attrs={\"class\":\"detail-infos__subheading\"})[0].text==\"Runtime\":\n",
        "        runtime=i.find_all(\"div\",attrs={\"class\":\"detail-infos__value\"})[0].text\n",
        "runtime"
      ]
    },
    {
      "cell_type": "markdown",
      "id": "7268cc96",
      "metadata": {
        "id": "7268cc96"
      },
      "source": [
        "### fetch production country"
      ]
    },
    {
      "cell_type": "code",
      "execution_count": 40,
      "id": "43e905e4",
      "metadata": {
        "id": "43e905e4"
      },
      "outputs": [],
      "source": [
        "for i in soup.find_all(\"div\",attrs={\"class\":\"detail-infos\"}):\n",
        "    if i.find_all(\"h3\",attrs={\"class\":\"detail-infos__subheading\"})[0].text==\" Production country \":\n",
        "        country =i.find_all(\"div\",attrs={\"class\":\"detail-infos__value\"})[0].text\n",
        ""
      ]
    },
    {
      "cell_type": "code",
      "execution_count": 41,
      "id": "ab66e1e0",
      "metadata": {
        "colab": {
          "base_uri": "https://localhost:8080/",
          "height": 35
        },
        "id": "ab66e1e0",
        "outputId": "d7557d38-13aa-4f95-8568-ea757411edf8"
      },
      "outputs": [
        {
          "output_type": "execute_result",
          "data": {
            "text/plain": [
              "'India'"
            ],
            "application/vnd.google.colaboratory.intrinsic+json": {
              "type": "string"
            }
          },
          "metadata": {},
          "execution_count": 41
        }
      ],
      "source": [
        "country"
      ]
    },
    {
      "cell_type": "markdown",
      "id": "895083bb",
      "metadata": {
        "id": "895083bb"
      },
      "source": [
        "### fetch director"
      ]
    },
    {
      "cell_type": "code",
      "execution_count": 42,
      "id": "94dd4d8f",
      "metadata": {
        "id": "94dd4d8f"
      },
      "outputs": [],
      "source": [
        "for i in soup.find_all(\"div\",attrs={\"class\":\"detail-infos\"}):\n",
        "    if i.find_all(\"h3\",attrs={\"class\":\"detail-infos__subheading\"})[0].text==\"Director\":\n",
        "        Director =i.find_all(\"div\",attrs={\"class\":\"detail-infos__value\"})[0].text.strip()"
      ]
    },
    {
      "cell_type": "code",
      "execution_count": 43,
      "id": "d4c6f541",
      "metadata": {
        "colab": {
          "base_uri": "https://localhost:8080/",
          "height": 35
        },
        "id": "d4c6f541",
        "outputId": "f623499c-b074-4c0c-ea8a-c44960a83d4a"
      },
      "outputs": [
        {
          "output_type": "execute_result",
          "data": {
            "text/plain": [
              "'Parasuram Petla'"
            ],
            "application/vnd.google.colaboratory.intrinsic+json": {
              "type": "string"
            }
          },
          "metadata": {},
          "execution_count": 43
        }
      ],
      "source": [
        "Director"
      ]
    },
    {
      "cell_type": "markdown",
      "id": "3dd3f855",
      "metadata": {
        "id": "3dd3f855"
      },
      "source": [
        "# Web Scraping with 100 Movies"
      ]
    },
    {
      "cell_type": "code",
      "execution_count": 44,
      "id": "91f43c2f",
      "metadata": {
        "id": "91f43c2f"
      },
      "outputs": [],
      "source": [
        "import numpy as np\n",
        "import pandas as pd"
      ]
    },
    {
      "cell_type": "code",
      "execution_count": 45,
      "id": "e0b0d9b8",
      "metadata": {
        "id": "e0b0d9b8"
      },
      "outputs": [],
      "source": [
        "url=\"https://www.justwatch.com/in/movies\"\n",
        "pro=requests.get(url)\n",
        "soup=BeautifulSoup(pro.text,\"html.parser\")"
      ]
    },
    {
      "cell_type": "code",
      "execution_count": 46,
      "id": "31f6384e",
      "metadata": {
        "colab": {
          "base_uri": "https://localhost:8080/",
          "height": 35
        },
        "id": "31f6384e",
        "outputId": "f7ce7440-c797-49ff-9399-d40e1497ff9d"
      },
      "outputs": [
        {
          "output_type": "execute_result",
          "data": {
            "text/plain": [
              "'/in/movie/laapataa-ladies'"
            ],
            "application/vnd.google.colaboratory.intrinsic+json": {
              "type": "string"
            }
          },
          "metadata": {},
          "execution_count": 46
        }
      ],
      "source": [
        "soup.find_all(\"a\",attrs={\"class\":\"title-list-grid__item--link\"})[0][\"href\"]"
      ]
    },
    {
      "cell_type": "code",
      "execution_count": 47,
      "id": "48509e4d",
      "metadata": {
        "colab": {
          "base_uri": "https://localhost:8080/"
        },
        "id": "48509e4d",
        "outputId": "5cf6d037-1649-4e7d-8d25-36cba1163821"
      },
      "outputs": [
        {
          "output_type": "stream",
          "name": "stdout",
          "text": [
            "/in/movie/laapataa-ladies\n",
            "/in/movie/manjummel-boys\n",
            "/in/movie/aavesham-2024\n",
            "/in/movie/family-star\n",
            "/in/movie/black-magic-2024\n",
            "/in/movie/madgaon-express\n",
            "/in/movie/godzilla-x-kong-the-new-empire\n",
            "/in/movie/the-crew-2024\n",
            "/in/movie/yodha-2022\n",
            "/in/movie/article-370\n",
            "/in/movie/premalu\n",
            "/in/movie/dune-part-two\n",
            "/in/movie/kung-fu-panda-4\n",
            "/in/movie/oppenheimer\n",
            "/in/movie/monkey-man\n",
            "/in/movie/untitled-shahid-kapoor-kriti-sanon-film\n",
            "/in/movie/tillu-square\n",
            "/in/movie/hanu-man\n",
            "/in/movie/hereditary\n",
            "/in/movie/the-beekeeper-2024\n",
            "/in/movie/godzilla-minus-one\n",
            "/in/movie/anyone-but-you\n",
            "/in/movie/the-idea-of-you\n",
            "/in/movie/dune-2021\n",
            "/in/movie/zara-hatke-zara-bach-ke\n",
            "/in/movie/animal-2022\n",
            "/in/movie/12th-fail\n",
            "/in/movie/777-charlie\n",
            "/in/movie/amar-singh-chamkila\n",
            "/in/movie/anatomie-dune-chute\n",
            "/in/movie/madame-web\n",
            "/in/movie/salaar\n",
            "/in/movie/rise-of-the-planet-of-the-apes\n",
            "/in/movie/crakk-jeetegaa-toh-jiyegaa\n",
            "/in/movie/the-raid\n",
            "/in/movie/the-fall-guy\n",
            "/in/movie/sam-bahadur\n",
            "/in/movie/365-days\n",
            "/in/movie/mad-max-fury-road\n",
            "/in/movie/dj-tillu\n"
          ]
        }
      ],
      "source": [
        "for i in soup.find_all(\"a\",attrs={\"class\":\"title-list-grid__item--link\"}):\n",
        "    print(i[\"href\"])"
      ]
    },
    {
      "cell_type": "code",
      "execution_count": 48,
      "id": "0f019540",
      "metadata": {
        "colab": {
          "base_uri": "https://localhost:8080/"
        },
        "id": "0f019540",
        "outputId": "76b1c42e-e54c-4457-d686-49cce790f32d"
      },
      "outputs": [
        {
          "output_type": "stream",
          "name": "stdout",
          "text": [
            "['https://www.justwatch.com/in/movie/laapataa-ladies', 'https://www.justwatch.com/in/movie/manjummel-boys', 'https://www.justwatch.com/in/movie/aavesham-2024', 'https://www.justwatch.com/in/movie/family-star', 'https://www.justwatch.com/in/movie/black-magic-2024', 'https://www.justwatch.com/in/movie/madgaon-express', 'https://www.justwatch.com/in/movie/godzilla-x-kong-the-new-empire', 'https://www.justwatch.com/in/movie/the-crew-2024', 'https://www.justwatch.com/in/movie/yodha-2022', 'https://www.justwatch.com/in/movie/article-370', 'https://www.justwatch.com/in/movie/premalu', 'https://www.justwatch.com/in/movie/dune-part-two', 'https://www.justwatch.com/in/movie/kung-fu-panda-4', 'https://www.justwatch.com/in/movie/oppenheimer', 'https://www.justwatch.com/in/movie/monkey-man', 'https://www.justwatch.com/in/movie/untitled-shahid-kapoor-kriti-sanon-film', 'https://www.justwatch.com/in/movie/tillu-square', 'https://www.justwatch.com/in/movie/hanu-man', 'https://www.justwatch.com/in/movie/hereditary', 'https://www.justwatch.com/in/movie/the-beekeeper-2024', 'https://www.justwatch.com/in/movie/godzilla-minus-one', 'https://www.justwatch.com/in/movie/anyone-but-you', 'https://www.justwatch.com/in/movie/the-idea-of-you', 'https://www.justwatch.com/in/movie/dune-2021', 'https://www.justwatch.com/in/movie/zara-hatke-zara-bach-ke', 'https://www.justwatch.com/in/movie/animal-2022', 'https://www.justwatch.com/in/movie/12th-fail', 'https://www.justwatch.com/in/movie/777-charlie', 'https://www.justwatch.com/in/movie/amar-singh-chamkila', 'https://www.justwatch.com/in/movie/anatomie-dune-chute', 'https://www.justwatch.com/in/movie/madame-web', 'https://www.justwatch.com/in/movie/salaar', 'https://www.justwatch.com/in/movie/rise-of-the-planet-of-the-apes', 'https://www.justwatch.com/in/movie/crakk-jeetegaa-toh-jiyegaa', 'https://www.justwatch.com/in/movie/the-raid', 'https://www.justwatch.com/in/movie/the-fall-guy', 'https://www.justwatch.com/in/movie/sam-bahadur', 'https://www.justwatch.com/in/movie/365-days', 'https://www.justwatch.com/in/movie/mad-max-fury-road', 'https://www.justwatch.com/in/movie/dj-tillu']\n"
          ]
        }
      ],
      "source": [
        "url_list=[]\n",
        "for i in soup.find_all(\"a\",attrs={\"class\":\"title-list-grid__item--link\"}):\n",
        "    url_list.append( 'https://www.justwatch.com'+i[\"href\"])\n",
        "print(url_list)"
      ]
    },
    {
      "cell_type": "code",
      "execution_count": 49,
      "id": "f6317934",
      "metadata": {
        "id": "f6317934"
      },
      "outputs": [],
      "source": [
        "#list(enumerate(url_list))"
      ]
    },
    {
      "cell_type": "markdown",
      "id": "49dfc412",
      "metadata": {
        "id": "49dfc412"
      },
      "source": [
        "### title, year , rating , runtime , genres , director"
      ]
    },
    {
      "cell_type": "code",
      "execution_count": 51,
      "id": "4af51495",
      "metadata": {
        "id": "4af51495"
      },
      "outputs": [],
      "source": [
        "for i in soup.find_all(\"div\",attrs={\"class\":\"detail-infos\"}):\n",
        "    if i.find_all(\"h3\",attrs={\"class\":\"detail-infos__subheading\"})[0].text==\"Rating\":\n",
        "        rating= i.find_all(\"div\",attrs={\"class\":\"detail-infos__value\"})[0].text\n",
        "    elif i in soup.find_all(\"div\",attrs={\"class\":\"detail-infos\"}):\n",
        "        if i .find_all(\"h3\",attrs={\"class\":\"detail-infos__subheading\"})[0].text==\"Genres\":\n",
        "            info[\"Genres\"]=i.find_all(\"div\",attrs={\"class\":\"detail-infos__value\"})[0].text\n",
        "    elif i in soup.find_all(\"div\",attrs={\"class\":\"detail-infos\"}):\n",
        "        if i.find_all(\"h3\",attrs={\"class\":\"detail-infos__subheading\"})[0].text==\"Runtime\":\n",
        "            info[\"runtime\"]=i.find_all(\"div\",attrs={\"class\":\"detail-infos__value\"})[0].text\n",
        "    elif i in soup.find_all(\"div\",attrs={\"class\":\"detail-infos\"}):\n",
        "        if i.find_all(\"h3\",attrs={\"class\":\"detail-infos__subheading\"})[0].text==\" Production country \":\n",
        "            info[\"country\"] =i.find_all(\"div\",attrs={\"class\":\"detail-infos__value\"})[0].text\n",
        "    elif i in soup.find_all(\"div\",attrs={\"class\":\"detail-infos\"}):\n",
        "        if i.find_all(\"h3\",attrs={\"class\":\"detail-infos__subheading\"})[0].text==\"Director\":\n",
        "            info[\"Director\"] =i.find_all(\"div\",attrs={\"class\":\"detail-infos__value\"})[0].text.strip()\n",
        ""
      ]
    },
    {
      "cell_type": "code",
      "execution_count": null,
      "id": "edee12a9",
      "metadata": {
        "id": "edee12a9"
      },
      "outputs": [],
      "source": []
    },
    {
      "cell_type": "code",
      "execution_count": 54,
      "id": "02a8bf79",
      "metadata": {
        "colab": {
          "base_uri": "https://localhost:8080/"
        },
        "id": "02a8bf79",
        "outputId": "a24a5696-e011-438e-bc55-9ca2f02fcd32"
      },
      "outputs": [
        {
          "output_type": "stream",
          "name": "stdout",
          "text": [
            "Successful https://www.justwatch.com/in/movie/laapataa-ladies\n",
            "Successful https://www.justwatch.com/in/movie/manjummel-boys\n",
            "Successful https://www.justwatch.com/in/movie/aavesham-2024\n",
            "Successful https://www.justwatch.com/in/movie/family-star\n",
            "Successful https://www.justwatch.com/in/movie/black-magic-2024\n",
            "Successful https://www.justwatch.com/in/movie/madgaon-express\n",
            "Successful https://www.justwatch.com/in/movie/godzilla-x-kong-the-new-empire\n",
            "Successful https://www.justwatch.com/in/movie/the-crew-2024\n",
            "Successful https://www.justwatch.com/in/movie/yodha-2022\n",
            "Successful https://www.justwatch.com/in/movie/article-370\n",
            "Successful https://www.justwatch.com/in/movie/premalu\n",
            "Successful https://www.justwatch.com/in/movie/dune-part-two\n",
            "Successful https://www.justwatch.com/in/movie/kung-fu-panda-4\n",
            "Successful https://www.justwatch.com/in/movie/oppenheimer\n",
            "Successful https://www.justwatch.com/in/movie/monkey-man\n",
            "Successful https://www.justwatch.com/in/movie/untitled-shahid-kapoor-kriti-sanon-film\n",
            "Successful https://www.justwatch.com/in/movie/tillu-square\n",
            "Successful https://www.justwatch.com/in/movie/hanu-man\n",
            "Successful https://www.justwatch.com/in/movie/hereditary\n",
            "Successful https://www.justwatch.com/in/movie/the-beekeeper-2024\n",
            "Successful https://www.justwatch.com/in/movie/godzilla-minus-one\n",
            "Successful https://www.justwatch.com/in/movie/anyone-but-you\n",
            "Successful https://www.justwatch.com/in/movie/the-idea-of-you\n",
            "Successful https://www.justwatch.com/in/movie/dune-2021\n",
            "Successful https://www.justwatch.com/in/movie/zara-hatke-zara-bach-ke\n",
            "Successful https://www.justwatch.com/in/movie/animal-2022\n",
            "Successful https://www.justwatch.com/in/movie/12th-fail\n",
            "Successful https://www.justwatch.com/in/movie/777-charlie\n",
            "Successful https://www.justwatch.com/in/movie/amar-singh-chamkila\n",
            "Successful https://www.justwatch.com/in/movie/anatomie-dune-chute\n",
            "Successful https://www.justwatch.com/in/movie/madame-web\n",
            "Successful https://www.justwatch.com/in/movie/salaar\n",
            "Successful https://www.justwatch.com/in/movie/rise-of-the-planet-of-the-apes\n",
            "Successful https://www.justwatch.com/in/movie/crakk-jeetegaa-toh-jiyegaa\n",
            "Successful https://www.justwatch.com/in/movie/the-raid\n",
            "Successful https://www.justwatch.com/in/movie/the-fall-guy\n",
            "Successful https://www.justwatch.com/in/movie/sam-bahadur\n",
            "Successful https://www.justwatch.com/in/movie/365-days\n",
            "Successful https://www.justwatch.com/in/movie/mad-max-fury-road\n",
            "Successful https://www.justwatch.com/in/movie/dj-tillu\n",
            "                                           Movie_link  \\\n",
            "0   https://www.justwatch.com/in/movie/laapataa-la...   \n",
            "1   https://www.justwatch.com/in/movie/manjummel-boys   \n",
            "2    https://www.justwatch.com/in/movie/aavesham-2024   \n",
            "3      https://www.justwatch.com/in/movie/family-star   \n",
            "4   https://www.justwatch.com/in/movie/black-magic...   \n",
            "5   https://www.justwatch.com/in/movie/madgaon-exp...   \n",
            "6   https://www.justwatch.com/in/movie/godzilla-x-...   \n",
            "7    https://www.justwatch.com/in/movie/the-crew-2024   \n",
            "8       https://www.justwatch.com/in/movie/yodha-2022   \n",
            "9      https://www.justwatch.com/in/movie/article-370   \n",
            "10         https://www.justwatch.com/in/movie/premalu   \n",
            "11   https://www.justwatch.com/in/movie/dune-part-two   \n",
            "12  https://www.justwatch.com/in/movie/kung-fu-pan...   \n",
            "13     https://www.justwatch.com/in/movie/oppenheimer   \n",
            "14      https://www.justwatch.com/in/movie/monkey-man   \n",
            "15  https://www.justwatch.com/in/movie/untitled-sh...   \n",
            "16    https://www.justwatch.com/in/movie/tillu-square   \n",
            "17        https://www.justwatch.com/in/movie/hanu-man   \n",
            "18      https://www.justwatch.com/in/movie/hereditary   \n",
            "19  https://www.justwatch.com/in/movie/the-beekeep...   \n",
            "20  https://www.justwatch.com/in/movie/godzilla-mi...   \n",
            "21  https://www.justwatch.com/in/movie/anyone-but-you   \n",
            "22  https://www.justwatch.com/in/movie/the-idea-of...   \n",
            "23       https://www.justwatch.com/in/movie/dune-2021   \n",
            "24  https://www.justwatch.com/in/movie/zara-hatke-...   \n",
            "25     https://www.justwatch.com/in/movie/animal-2022   \n",
            "26       https://www.justwatch.com/in/movie/12th-fail   \n",
            "27     https://www.justwatch.com/in/movie/777-charlie   \n",
            "28  https://www.justwatch.com/in/movie/amar-singh-...   \n",
            "29  https://www.justwatch.com/in/movie/anatomie-du...   \n",
            "30      https://www.justwatch.com/in/movie/madame-web   \n",
            "31          https://www.justwatch.com/in/movie/salaar   \n",
            "32  https://www.justwatch.com/in/movie/rise-of-the...   \n",
            "33  https://www.justwatch.com/in/movie/crakk-jeete...   \n",
            "34        https://www.justwatch.com/in/movie/the-raid   \n",
            "35    https://www.justwatch.com/in/movie/the-fall-guy   \n",
            "36     https://www.justwatch.com/in/movie/sam-bahadur   \n",
            "37        https://www.justwatch.com/in/movie/365-days   \n",
            "38  https://www.justwatch.com/in/movie/mad-max-fur...   \n",
            "39        https://www.justwatch.com/in/movie/dj-tillu   \n",
            "\n",
            "                         movie_title release_year       rating  \\\n",
            "0                    Laapataa Ladies       (2024)   8.5  (24k)   \n",
            "1                     Manjummel Boys       (2024)   8.4  (13k)   \n",
            "2                           Aavesham       (2024)    8.0  (7k)   \n",
            "3                        Family Star       (2024)    5.1  (2k)   \n",
            "4                           Shaitaan       (2024)   6.7  (43k)   \n",
            "5                    Madgaon Express       (2024)   7.3  (31k)   \n",
            "6    Godzilla x Kong: The New Empire       (2024)   6.3  (59k)   \n",
            "7                               Crew       (2024)   6.4  (25k)   \n",
            "8                              Yodha       (2024)    5.7  (6k)   \n",
            "9                        Article 370       (2024)   8.0  (18k)   \n",
            "10                           Premalu       (2024)   7.9  (10k)   \n",
            "11                    Dune: Part Two       (2024)  8.6  (411k)   \n",
            "12                   Kung Fu Panda 4       (2024)   6.3  (38k)   \n",
            "13                       Oppenheimer       (2023)  8.3  (742k)   \n",
            "14                        Monkey Man       (2024)          NaN   \n",
            "15  Teri Baaton Mein Aisa Uljha Jiya       (2024)   6.3  (49k)   \n",
            "16                      Tillu Square       (2024)    6.8  (2k)   \n",
            "17                          Hanu-Man       (2024)   7.9  (23k)   \n",
            "18                        Hereditary       (2018)  7.3  (380k)   \n",
            "19                     The Beekeeper       (2024)   6.4  (95k)   \n",
            "20                Godzilla Minus One       (2023)   8.0  (75k)   \n",
            "21                    Anyone But You       (2023)   6.1  (84k)   \n",
            "22                   The Idea of You       (2024)   6.4  (35k)   \n",
            "23                              Dune       (2021)  8.0  (866k)   \n",
            "24            Zara Hatke Zara Bachke       (2023)   6.3  (14k)   \n",
            "25                            Animal       (2023)   6.2  (91k)   \n",
            "26                         12th Fail       (2023)  8.9  (115k)   \n",
            "27                       777 Charlie       (2022)   8.7  (40k)   \n",
            "28               Amar Singh Chamkila       (2024)   8.0  (11k)   \n",
            "29                 Anatomy of a Fall       (2023)  7.7  (128k)   \n",
            "30                        Madame Web       (2024)   3.9  (62k)   \n",
            "31                            Salaar       (2023)   6.5  (64k)   \n",
            "32    Rise of the Planet of the Apes       (2011)  7.6  (567k)   \n",
            "33     Crakk: Jeetega... Toh Jiyegaa       (2024)    4.9  (5k)   \n",
            "34                          The Raid       (2012)  7.6  (217k)   \n",
            "35                      The Fall Guy       (2024)   7.2  (51k)   \n",
            "36                       Sam Bahadur       (2023)   7.7  (16k)   \n",
            "37                          365 Days       (2020)   3.3  (98k)   \n",
            "38                Mad Max: Fury Road       (2015)    8.1  (1m)   \n",
            "39                          DJ Tillu       (2022)    7.2  (3k)   \n",
            "\n",
            "                                               genres   runtime  \\\n",
            "0                                       Comedy, Drama   2h 2min   \n",
            "1       Mystery & Thriller, Drama, Action & Adventure  2h 15min   \n",
            "2                          Action & Adventure, Comedy  2h 38min   \n",
            "3          Action & Adventure, Drama, Comedy, Romance  2h 39min   \n",
            "4                   Horror, Mystery & Thriller, Drama  2h 12min   \n",
            "5                                       Comedy, Drama  2h 23min   \n",
            "6   Action & Adventure, Fantasy, Science-Fiction, ...  1h 55min   \n",
            "7                                       Comedy, Drama  1h 58min   \n",
            "8       Mystery & Thriller, Drama, Action & Adventure  2h 10min   \n",
            "9       Action & Adventure, Drama, Mystery & Thriller  2h 38min   \n",
            "10                                    Comedy, Romance  2h 36min   \n",
            "11         Science-Fiction, Drama, Action & Adventure  2h 47min   \n",
            "12  Fantasy, Animation, Action & Adventure, Comedy...  1h 34min   \n",
            "13                                     Drama, History   3h 0min   \n",
            "14             Mystery & Thriller, Action & Adventure   2h 1min   \n",
            "15            Comedy, Drama, Romance, Science-Fiction  2h 21min   \n",
            "16  Comedy, Crime, Drama, Romance, Mystery & Thriller  2h 17min   \n",
            "17  Science-Fiction, Fantasy, Action & Adventure, ...  2h 39min   \n",
            "18                  Horror, Mystery & Thriller, Drama   2h 7min   \n",
            "19      Action & Adventure, Mystery & Thriller, Drama  1h 45min   \n",
            "20  Science-Fiction, Action & Adventure, Drama, Ho...   2h 5min   \n",
            "21                                    Romance, Comedy  1h 44min   \n",
            "22                             Romance, Comedy, Drama  1h 56min   \n",
            "23         Science-Fiction, Action & Adventure, Drama  2h 35min   \n",
            "24              Comedy, Drama, Romance, Kids & Family  2h 20min   \n",
            "25  Action & Adventure, Crime, Drama, Mystery & Th...  3h 21min   \n",
            "26                                              Drama  2h 27min   \n",
            "27                  Comedy, Drama, Action & Adventure  2h 46min   \n",
            "28                    Music & Musical, Romance, Drama  2h 25min   \n",
            "29                   Mystery & Thriller, Crime, Drama  2h 32min   \n",
            "30  Fantasy, Action & Adventure, Science-Fiction, ...  1h 56min   \n",
            "31  Mystery & Thriller, Action & Adventure, Crime,...  2h 55min   \n",
            "32  Mystery & Thriller, Drama, Action & Adventure,...  1h 44min   \n",
            "33      Mystery & Thriller, Action & Adventure, Sport  2h 34min   \n",
            "34      Action & Adventure, Mystery & Thriller, Crime  1h 41min   \n",
            "35                  Action & Adventure, Comedy, Drama   2h 6min   \n",
            "36                     Drama, War & Military, History  2h 30min   \n",
            "37                     Drama, Romance, Made in Europe  1h 54min   \n",
            "38  Action & Adventure, Science-Fiction, Mystery &...   2h 1min   \n",
            "39         Comedy, Crime, Romance, Action & Adventure   2h 1min   \n",
            "\n",
            "                             country                           director  \n",
            "0                              India                          Kiran Rao  \n",
            "1                              India                        Chidambaram  \n",
            "2                              India                     Jithu Madhavan  \n",
            "3                              India                    Parasuram Petla  \n",
            "4                              India                         Vikas Bahl  \n",
            "5                              India                        Kunal Khemu  \n",
            "6           United States, Australia                       Adam Wingard  \n",
            "7                              India                    Rajesh Krishnan  \n",
            "8               United States, India                       Pushkar Ojha  \n",
            "9                              India              Aditya Suhas Jambhale  \n",
            "10                             India                         Girish A D  \n",
            "11                     United States                   Denis Villeneuve  \n",
            "12                     United States                      Mike Mitchell  \n",
            "13     United States, United Kingdom                  Christopher Nolan  \n",
            "14  Singapore, United States, Canada                          Dev Patel  \n",
            "15                             India                         Amit Joshi  \n",
            "16                             India                         Mallik Ram  \n",
            "17                             India                     Prasanth Varma  \n",
            "18                     United States                          Ari Aster  \n",
            "19     United Kingdom, United States                         David Ayer  \n",
            "20                             Japan                   Takashi Yamazaki  \n",
            "21                     United States                         Will Gluck  \n",
            "22                     United States                  Michael Showalter  \n",
            "23                     United States                   Denis Villeneuve  \n",
            "24                             India                      Laxman Utekar  \n",
            "25                             India                Sandeep Reddy Vanga  \n",
            "26                             India                 Vidhu Vinod Chopra  \n",
            "27                             India                        Kiranraj K.  \n",
            "28                             India                         Imtiaz Ali  \n",
            "29                            France                      Justine Triet  \n",
            "30                     United States                      S.J. Clarkson  \n",
            "31                             India                     Prashanth Neel  \n",
            "32     United States, United Kingdom                       Rupert Wyatt  \n",
            "33                             India                        Aditya Datt  \n",
            "34  Indonesia, United States, France                       Gareth Evans  \n",
            "35  Canada, United States, Australia                       David Leitch  \n",
            "36                             India                      Meghna Gulzar  \n",
            "37                            Poland  Tomasz Mandes ,  Barbara Białowąs  \n",
            "38          Australia, United States                      George Miller  \n",
            "39                             India                      Vimal Krishna  \n"
          ]
        }
      ],
      "source": [
        "import time\n",
        "import requests\n",
        "from bs4 import BeautifulSoup\n",
        "import pandas as pd\n",
        "\n",
        "\n",
        "\n",
        "movie_info = []\n",
        "\n",
        "for i in url_list:\n",
        "    info = {}\n",
        "    page = requests.get(i)\n",
        "    soup = BeautifulSoup(page.text, \"html.parser\")\n",
        "    try:\n",
        "        info[\"Movie_link\"] = i\n",
        "        info[\"movie_title\"] = soup.find_all(\"h1\")[0].text.strip()\n",
        "        info[\"release_year\"] = soup.find_all(\"div\", attrs={\"data-testid\": \"titleBlock\"})[0].find_all(\"span\")[0].text.strip()\n",
        "\n",
        "        detail_infos = soup.find_all(\"div\", attrs={\"class\": \"detail-infos\"})\n",
        "\n",
        "        for detail in detail_infos:\n",
        "            subheading = detail.find_all(\"h3\", attrs={\"class\": \"detail-infos__subheading\"})[0].text.strip()\n",
        "            value = detail.find_all(\"div\", attrs={\"class\": \"detail-infos__value\"})[0].text.strip()\n",
        "\n",
        "            if subheading == \"Rating\":\n",
        "                info[\"rating\"] = value\n",
        "            elif subheading == \"Genres\":\n",
        "                info[\"genres\"] = value\n",
        "            elif subheading == \"Runtime\":\n",
        "                info[\"runtime\"] = value\n",
        "            elif subheading == \"Production country\":\n",
        "                info[\"country\"] = value\n",
        "            elif subheading == \"Director\":\n",
        "                info[\"director\"] = value\n",
        "\n",
        "        movie_info.append(info)\n",
        "        print(\"Successful\", i)\n",
        "    except Exception as e:\n",
        "        print(f\"Error processing {i}: {e}\")\n",
        "        continue\n",
        "    time.sleep(2)\n",
        "\n",
        "movie_data = pd.DataFrame(movie_info)\n",
        "print(movie_data)\n"
      ]
    },
    {
      "cell_type": "code",
      "execution_count": 55,
      "id": "15a22748",
      "metadata": {
        "colab": {
          "base_uri": "https://localhost:8080/",
          "height": 1000
        },
        "id": "15a22748",
        "outputId": "f01d0dc7-b529-482a-b8f4-907758c7343d"
      },
      "outputs": [
        {
          "output_type": "execute_result",
          "data": {
            "text/plain": [
              "                                           Movie_link  \\\n",
              "0   https://www.justwatch.com/in/movie/laapataa-la...   \n",
              "1   https://www.justwatch.com/in/movie/manjummel-boys   \n",
              "2    https://www.justwatch.com/in/movie/aavesham-2024   \n",
              "3      https://www.justwatch.com/in/movie/family-star   \n",
              "4   https://www.justwatch.com/in/movie/black-magic...   \n",
              "5   https://www.justwatch.com/in/movie/madgaon-exp...   \n",
              "6   https://www.justwatch.com/in/movie/godzilla-x-...   \n",
              "7    https://www.justwatch.com/in/movie/the-crew-2024   \n",
              "8       https://www.justwatch.com/in/movie/yodha-2022   \n",
              "9      https://www.justwatch.com/in/movie/article-370   \n",
              "10         https://www.justwatch.com/in/movie/premalu   \n",
              "11   https://www.justwatch.com/in/movie/dune-part-two   \n",
              "12  https://www.justwatch.com/in/movie/kung-fu-pan...   \n",
              "13     https://www.justwatch.com/in/movie/oppenheimer   \n",
              "14      https://www.justwatch.com/in/movie/monkey-man   \n",
              "15  https://www.justwatch.com/in/movie/untitled-sh...   \n",
              "16    https://www.justwatch.com/in/movie/tillu-square   \n",
              "17        https://www.justwatch.com/in/movie/hanu-man   \n",
              "18      https://www.justwatch.com/in/movie/hereditary   \n",
              "19  https://www.justwatch.com/in/movie/the-beekeep...   \n",
              "20  https://www.justwatch.com/in/movie/godzilla-mi...   \n",
              "21  https://www.justwatch.com/in/movie/anyone-but-you   \n",
              "22  https://www.justwatch.com/in/movie/the-idea-of...   \n",
              "23       https://www.justwatch.com/in/movie/dune-2021   \n",
              "24  https://www.justwatch.com/in/movie/zara-hatke-...   \n",
              "25     https://www.justwatch.com/in/movie/animal-2022   \n",
              "26       https://www.justwatch.com/in/movie/12th-fail   \n",
              "27     https://www.justwatch.com/in/movie/777-charlie   \n",
              "28  https://www.justwatch.com/in/movie/amar-singh-...   \n",
              "29  https://www.justwatch.com/in/movie/anatomie-du...   \n",
              "30      https://www.justwatch.com/in/movie/madame-web   \n",
              "31          https://www.justwatch.com/in/movie/salaar   \n",
              "32  https://www.justwatch.com/in/movie/rise-of-the...   \n",
              "33  https://www.justwatch.com/in/movie/crakk-jeete...   \n",
              "34        https://www.justwatch.com/in/movie/the-raid   \n",
              "35    https://www.justwatch.com/in/movie/the-fall-guy   \n",
              "36     https://www.justwatch.com/in/movie/sam-bahadur   \n",
              "37        https://www.justwatch.com/in/movie/365-days   \n",
              "38  https://www.justwatch.com/in/movie/mad-max-fur...   \n",
              "39        https://www.justwatch.com/in/movie/dj-tillu   \n",
              "\n",
              "                         movie_title release_year       rating  \\\n",
              "0                    Laapataa Ladies       (2024)   8.5  (24k)   \n",
              "1                     Manjummel Boys       (2024)   8.4  (13k)   \n",
              "2                           Aavesham       (2024)    8.0  (7k)   \n",
              "3                        Family Star       (2024)    5.1  (2k)   \n",
              "4                           Shaitaan       (2024)   6.7  (43k)   \n",
              "5                    Madgaon Express       (2024)   7.3  (31k)   \n",
              "6    Godzilla x Kong: The New Empire       (2024)   6.3  (59k)   \n",
              "7                               Crew       (2024)   6.4  (25k)   \n",
              "8                              Yodha       (2024)    5.7  (6k)   \n",
              "9                        Article 370       (2024)   8.0  (18k)   \n",
              "10                           Premalu       (2024)   7.9  (10k)   \n",
              "11                    Dune: Part Two       (2024)  8.6  (411k)   \n",
              "12                   Kung Fu Panda 4       (2024)   6.3  (38k)   \n",
              "13                       Oppenheimer       (2023)  8.3  (742k)   \n",
              "14                        Monkey Man       (2024)          NaN   \n",
              "15  Teri Baaton Mein Aisa Uljha Jiya       (2024)   6.3  (49k)   \n",
              "16                      Tillu Square       (2024)    6.8  (2k)   \n",
              "17                          Hanu-Man       (2024)   7.9  (23k)   \n",
              "18                        Hereditary       (2018)  7.3  (380k)   \n",
              "19                     The Beekeeper       (2024)   6.4  (95k)   \n",
              "20                Godzilla Minus One       (2023)   8.0  (75k)   \n",
              "21                    Anyone But You       (2023)   6.1  (84k)   \n",
              "22                   The Idea of You       (2024)   6.4  (35k)   \n",
              "23                              Dune       (2021)  8.0  (866k)   \n",
              "24            Zara Hatke Zara Bachke       (2023)   6.3  (14k)   \n",
              "25                            Animal       (2023)   6.2  (91k)   \n",
              "26                         12th Fail       (2023)  8.9  (115k)   \n",
              "27                       777 Charlie       (2022)   8.7  (40k)   \n",
              "28               Amar Singh Chamkila       (2024)   8.0  (11k)   \n",
              "29                 Anatomy of a Fall       (2023)  7.7  (128k)   \n",
              "30                        Madame Web       (2024)   3.9  (62k)   \n",
              "31                            Salaar       (2023)   6.5  (64k)   \n",
              "32    Rise of the Planet of the Apes       (2011)  7.6  (567k)   \n",
              "33     Crakk: Jeetega... Toh Jiyegaa       (2024)    4.9  (5k)   \n",
              "34                          The Raid       (2012)  7.6  (217k)   \n",
              "35                      The Fall Guy       (2024)   7.2  (51k)   \n",
              "36                       Sam Bahadur       (2023)   7.7  (16k)   \n",
              "37                          365 Days       (2020)   3.3  (98k)   \n",
              "38                Mad Max: Fury Road       (2015)    8.1  (1m)   \n",
              "39                          DJ Tillu       (2022)    7.2  (3k)   \n",
              "\n",
              "                                               genres   runtime  \\\n",
              "0                                       Comedy, Drama   2h 2min   \n",
              "1       Mystery & Thriller, Drama, Action & Adventure  2h 15min   \n",
              "2                          Action & Adventure, Comedy  2h 38min   \n",
              "3          Action & Adventure, Drama, Comedy, Romance  2h 39min   \n",
              "4                   Horror, Mystery & Thriller, Drama  2h 12min   \n",
              "5                                       Comedy, Drama  2h 23min   \n",
              "6   Action & Adventure, Fantasy, Science-Fiction, ...  1h 55min   \n",
              "7                                       Comedy, Drama  1h 58min   \n",
              "8       Mystery & Thriller, Drama, Action & Adventure  2h 10min   \n",
              "9       Action & Adventure, Drama, Mystery & Thriller  2h 38min   \n",
              "10                                    Comedy, Romance  2h 36min   \n",
              "11         Science-Fiction, Drama, Action & Adventure  2h 47min   \n",
              "12  Fantasy, Animation, Action & Adventure, Comedy...  1h 34min   \n",
              "13                                     Drama, History   3h 0min   \n",
              "14             Mystery & Thriller, Action & Adventure   2h 1min   \n",
              "15            Comedy, Drama, Romance, Science-Fiction  2h 21min   \n",
              "16  Comedy, Crime, Drama, Romance, Mystery & Thriller  2h 17min   \n",
              "17  Science-Fiction, Fantasy, Action & Adventure, ...  2h 39min   \n",
              "18                  Horror, Mystery & Thriller, Drama   2h 7min   \n",
              "19      Action & Adventure, Mystery & Thriller, Drama  1h 45min   \n",
              "20  Science-Fiction, Action & Adventure, Drama, Ho...   2h 5min   \n",
              "21                                    Romance, Comedy  1h 44min   \n",
              "22                             Romance, Comedy, Drama  1h 56min   \n",
              "23         Science-Fiction, Action & Adventure, Drama  2h 35min   \n",
              "24              Comedy, Drama, Romance, Kids & Family  2h 20min   \n",
              "25  Action & Adventure, Crime, Drama, Mystery & Th...  3h 21min   \n",
              "26                                              Drama  2h 27min   \n",
              "27                  Comedy, Drama, Action & Adventure  2h 46min   \n",
              "28                    Music & Musical, Romance, Drama  2h 25min   \n",
              "29                   Mystery & Thriller, Crime, Drama  2h 32min   \n",
              "30  Fantasy, Action & Adventure, Science-Fiction, ...  1h 56min   \n",
              "31  Mystery & Thriller, Action & Adventure, Crime,...  2h 55min   \n",
              "32  Mystery & Thriller, Drama, Action & Adventure,...  1h 44min   \n",
              "33      Mystery & Thriller, Action & Adventure, Sport  2h 34min   \n",
              "34      Action & Adventure, Mystery & Thriller, Crime  1h 41min   \n",
              "35                  Action & Adventure, Comedy, Drama   2h 6min   \n",
              "36                     Drama, War & Military, History  2h 30min   \n",
              "37                     Drama, Romance, Made in Europe  1h 54min   \n",
              "38  Action & Adventure, Science-Fiction, Mystery &...   2h 1min   \n",
              "39         Comedy, Crime, Romance, Action & Adventure   2h 1min   \n",
              "\n",
              "                             country                           director  \n",
              "0                              India                          Kiran Rao  \n",
              "1                              India                        Chidambaram  \n",
              "2                              India                     Jithu Madhavan  \n",
              "3                              India                    Parasuram Petla  \n",
              "4                              India                         Vikas Bahl  \n",
              "5                              India                        Kunal Khemu  \n",
              "6           United States, Australia                       Adam Wingard  \n",
              "7                              India                    Rajesh Krishnan  \n",
              "8               United States, India                       Pushkar Ojha  \n",
              "9                              India              Aditya Suhas Jambhale  \n",
              "10                             India                         Girish A D  \n",
              "11                     United States                   Denis Villeneuve  \n",
              "12                     United States                      Mike Mitchell  \n",
              "13     United States, United Kingdom                  Christopher Nolan  \n",
              "14  Singapore, United States, Canada                          Dev Patel  \n",
              "15                             India                         Amit Joshi  \n",
              "16                             India                         Mallik Ram  \n",
              "17                             India                     Prasanth Varma  \n",
              "18                     United States                          Ari Aster  \n",
              "19     United Kingdom, United States                         David Ayer  \n",
              "20                             Japan                   Takashi Yamazaki  \n",
              "21                     United States                         Will Gluck  \n",
              "22                     United States                  Michael Showalter  \n",
              "23                     United States                   Denis Villeneuve  \n",
              "24                             India                      Laxman Utekar  \n",
              "25                             India                Sandeep Reddy Vanga  \n",
              "26                             India                 Vidhu Vinod Chopra  \n",
              "27                             India                        Kiranraj K.  \n",
              "28                             India                         Imtiaz Ali  \n",
              "29                            France                      Justine Triet  \n",
              "30                     United States                      S.J. Clarkson  \n",
              "31                             India                     Prashanth Neel  \n",
              "32     United States, United Kingdom                       Rupert Wyatt  \n",
              "33                             India                        Aditya Datt  \n",
              "34  Indonesia, United States, France                       Gareth Evans  \n",
              "35  Canada, United States, Australia                       David Leitch  \n",
              "36                             India                      Meghna Gulzar  \n",
              "37                            Poland  Tomasz Mandes ,  Barbara Białowąs  \n",
              "38          Australia, United States                      George Miller  \n",
              "39                             India                      Vimal Krishna  "
            ],
            "text/html": [
              "\n",
              "  <div id=\"df-75557640-7d25-4c39-95fc-f26d072fbd4c\" class=\"colab-df-container\">\n",
              "    <div>\n",
              "<style scoped>\n",
              "    .dataframe tbody tr th:only-of-type {\n",
              "        vertical-align: middle;\n",
              "    }\n",
              "\n",
              "    .dataframe tbody tr th {\n",
              "        vertical-align: top;\n",
              "    }\n",
              "\n",
              "    .dataframe thead th {\n",
              "        text-align: right;\n",
              "    }\n",
              "</style>\n",
              "<table border=\"1\" class=\"dataframe\">\n",
              "  <thead>\n",
              "    <tr style=\"text-align: right;\">\n",
              "      <th></th>\n",
              "      <th>Movie_link</th>\n",
              "      <th>movie_title</th>\n",
              "      <th>release_year</th>\n",
              "      <th>rating</th>\n",
              "      <th>genres</th>\n",
              "      <th>runtime</th>\n",
              "      <th>country</th>\n",
              "      <th>director</th>\n",
              "    </tr>\n",
              "  </thead>\n",
              "  <tbody>\n",
              "    <tr>\n",
              "      <th>0</th>\n",
              "      <td>https://www.justwatch.com/in/movie/laapataa-la...</td>\n",
              "      <td>Laapataa Ladies</td>\n",
              "      <td>(2024)</td>\n",
              "      <td>8.5  (24k)</td>\n",
              "      <td>Comedy, Drama</td>\n",
              "      <td>2h 2min</td>\n",
              "      <td>India</td>\n",
              "      <td>Kiran Rao</td>\n",
              "    </tr>\n",
              "    <tr>\n",
              "      <th>1</th>\n",
              "      <td>https://www.justwatch.com/in/movie/manjummel-boys</td>\n",
              "      <td>Manjummel Boys</td>\n",
              "      <td>(2024)</td>\n",
              "      <td>8.4  (13k)</td>\n",
              "      <td>Mystery &amp; Thriller, Drama, Action &amp; Adventure</td>\n",
              "      <td>2h 15min</td>\n",
              "      <td>India</td>\n",
              "      <td>Chidambaram</td>\n",
              "    </tr>\n",
              "    <tr>\n",
              "      <th>2</th>\n",
              "      <td>https://www.justwatch.com/in/movie/aavesham-2024</td>\n",
              "      <td>Aavesham</td>\n",
              "      <td>(2024)</td>\n",
              "      <td>8.0  (7k)</td>\n",
              "      <td>Action &amp; Adventure, Comedy</td>\n",
              "      <td>2h 38min</td>\n",
              "      <td>India</td>\n",
              "      <td>Jithu Madhavan</td>\n",
              "    </tr>\n",
              "    <tr>\n",
              "      <th>3</th>\n",
              "      <td>https://www.justwatch.com/in/movie/family-star</td>\n",
              "      <td>Family Star</td>\n",
              "      <td>(2024)</td>\n",
              "      <td>5.1  (2k)</td>\n",
              "      <td>Action &amp; Adventure, Drama, Comedy, Romance</td>\n",
              "      <td>2h 39min</td>\n",
              "      <td>India</td>\n",
              "      <td>Parasuram Petla</td>\n",
              "    </tr>\n",
              "    <tr>\n",
              "      <th>4</th>\n",
              "      <td>https://www.justwatch.com/in/movie/black-magic...</td>\n",
              "      <td>Shaitaan</td>\n",
              "      <td>(2024)</td>\n",
              "      <td>6.7  (43k)</td>\n",
              "      <td>Horror, Mystery &amp; Thriller, Drama</td>\n",
              "      <td>2h 12min</td>\n",
              "      <td>India</td>\n",
              "      <td>Vikas Bahl</td>\n",
              "    </tr>\n",
              "    <tr>\n",
              "      <th>5</th>\n",
              "      <td>https://www.justwatch.com/in/movie/madgaon-exp...</td>\n",
              "      <td>Madgaon Express</td>\n",
              "      <td>(2024)</td>\n",
              "      <td>7.3  (31k)</td>\n",
              "      <td>Comedy, Drama</td>\n",
              "      <td>2h 23min</td>\n",
              "      <td>India</td>\n",
              "      <td>Kunal Khemu</td>\n",
              "    </tr>\n",
              "    <tr>\n",
              "      <th>6</th>\n",
              "      <td>https://www.justwatch.com/in/movie/godzilla-x-...</td>\n",
              "      <td>Godzilla x Kong: The New Empire</td>\n",
              "      <td>(2024)</td>\n",
              "      <td>6.3  (59k)</td>\n",
              "      <td>Action &amp; Adventure, Fantasy, Science-Fiction, ...</td>\n",
              "      <td>1h 55min</td>\n",
              "      <td>United States, Australia</td>\n",
              "      <td>Adam Wingard</td>\n",
              "    </tr>\n",
              "    <tr>\n",
              "      <th>7</th>\n",
              "      <td>https://www.justwatch.com/in/movie/the-crew-2024</td>\n",
              "      <td>Crew</td>\n",
              "      <td>(2024)</td>\n",
              "      <td>6.4  (25k)</td>\n",
              "      <td>Comedy, Drama</td>\n",
              "      <td>1h 58min</td>\n",
              "      <td>India</td>\n",
              "      <td>Rajesh Krishnan</td>\n",
              "    </tr>\n",
              "    <tr>\n",
              "      <th>8</th>\n",
              "      <td>https://www.justwatch.com/in/movie/yodha-2022</td>\n",
              "      <td>Yodha</td>\n",
              "      <td>(2024)</td>\n",
              "      <td>5.7  (6k)</td>\n",
              "      <td>Mystery &amp; Thriller, Drama, Action &amp; Adventure</td>\n",
              "      <td>2h 10min</td>\n",
              "      <td>United States, India</td>\n",
              "      <td>Pushkar Ojha</td>\n",
              "    </tr>\n",
              "    <tr>\n",
              "      <th>9</th>\n",
              "      <td>https://www.justwatch.com/in/movie/article-370</td>\n",
              "      <td>Article 370</td>\n",
              "      <td>(2024)</td>\n",
              "      <td>8.0  (18k)</td>\n",
              "      <td>Action &amp; Adventure, Drama, Mystery &amp; Thriller</td>\n",
              "      <td>2h 38min</td>\n",
              "      <td>India</td>\n",
              "      <td>Aditya Suhas Jambhale</td>\n",
              "    </tr>\n",
              "    <tr>\n",
              "      <th>10</th>\n",
              "      <td>https://www.justwatch.com/in/movie/premalu</td>\n",
              "      <td>Premalu</td>\n",
              "      <td>(2024)</td>\n",
              "      <td>7.9  (10k)</td>\n",
              "      <td>Comedy, Romance</td>\n",
              "      <td>2h 36min</td>\n",
              "      <td>India</td>\n",
              "      <td>Girish A D</td>\n",
              "    </tr>\n",
              "    <tr>\n",
              "      <th>11</th>\n",
              "      <td>https://www.justwatch.com/in/movie/dune-part-two</td>\n",
              "      <td>Dune: Part Two</td>\n",
              "      <td>(2024)</td>\n",
              "      <td>8.6  (411k)</td>\n",
              "      <td>Science-Fiction, Drama, Action &amp; Adventure</td>\n",
              "      <td>2h 47min</td>\n",
              "      <td>United States</td>\n",
              "      <td>Denis Villeneuve</td>\n",
              "    </tr>\n",
              "    <tr>\n",
              "      <th>12</th>\n",
              "      <td>https://www.justwatch.com/in/movie/kung-fu-pan...</td>\n",
              "      <td>Kung Fu Panda 4</td>\n",
              "      <td>(2024)</td>\n",
              "      <td>6.3  (38k)</td>\n",
              "      <td>Fantasy, Animation, Action &amp; Adventure, Comedy...</td>\n",
              "      <td>1h 34min</td>\n",
              "      <td>United States</td>\n",
              "      <td>Mike Mitchell</td>\n",
              "    </tr>\n",
              "    <tr>\n",
              "      <th>13</th>\n",
              "      <td>https://www.justwatch.com/in/movie/oppenheimer</td>\n",
              "      <td>Oppenheimer</td>\n",
              "      <td>(2023)</td>\n",
              "      <td>8.3  (742k)</td>\n",
              "      <td>Drama, History</td>\n",
              "      <td>3h 0min</td>\n",
              "      <td>United States, United Kingdom</td>\n",
              "      <td>Christopher Nolan</td>\n",
              "    </tr>\n",
              "    <tr>\n",
              "      <th>14</th>\n",
              "      <td>https://www.justwatch.com/in/movie/monkey-man</td>\n",
              "      <td>Monkey Man</td>\n",
              "      <td>(2024)</td>\n",
              "      <td>NaN</td>\n",
              "      <td>Mystery &amp; Thriller, Action &amp; Adventure</td>\n",
              "      <td>2h 1min</td>\n",
              "      <td>Singapore, United States, Canada</td>\n",
              "      <td>Dev Patel</td>\n",
              "    </tr>\n",
              "    <tr>\n",
              "      <th>15</th>\n",
              "      <td>https://www.justwatch.com/in/movie/untitled-sh...</td>\n",
              "      <td>Teri Baaton Mein Aisa Uljha Jiya</td>\n",
              "      <td>(2024)</td>\n",
              "      <td>6.3  (49k)</td>\n",
              "      <td>Comedy, Drama, Romance, Science-Fiction</td>\n",
              "      <td>2h 21min</td>\n",
              "      <td>India</td>\n",
              "      <td>Amit Joshi</td>\n",
              "    </tr>\n",
              "    <tr>\n",
              "      <th>16</th>\n",
              "      <td>https://www.justwatch.com/in/movie/tillu-square</td>\n",
              "      <td>Tillu Square</td>\n",
              "      <td>(2024)</td>\n",
              "      <td>6.8  (2k)</td>\n",
              "      <td>Comedy, Crime, Drama, Romance, Mystery &amp; Thriller</td>\n",
              "      <td>2h 17min</td>\n",
              "      <td>India</td>\n",
              "      <td>Mallik Ram</td>\n",
              "    </tr>\n",
              "    <tr>\n",
              "      <th>17</th>\n",
              "      <td>https://www.justwatch.com/in/movie/hanu-man</td>\n",
              "      <td>Hanu-Man</td>\n",
              "      <td>(2024)</td>\n",
              "      <td>7.9  (23k)</td>\n",
              "      <td>Science-Fiction, Fantasy, Action &amp; Adventure, ...</td>\n",
              "      <td>2h 39min</td>\n",
              "      <td>India</td>\n",
              "      <td>Prasanth Varma</td>\n",
              "    </tr>\n",
              "    <tr>\n",
              "      <th>18</th>\n",
              "      <td>https://www.justwatch.com/in/movie/hereditary</td>\n",
              "      <td>Hereditary</td>\n",
              "      <td>(2018)</td>\n",
              "      <td>7.3  (380k)</td>\n",
              "      <td>Horror, Mystery &amp; Thriller, Drama</td>\n",
              "      <td>2h 7min</td>\n",
              "      <td>United States</td>\n",
              "      <td>Ari Aster</td>\n",
              "    </tr>\n",
              "    <tr>\n",
              "      <th>19</th>\n",
              "      <td>https://www.justwatch.com/in/movie/the-beekeep...</td>\n",
              "      <td>The Beekeeper</td>\n",
              "      <td>(2024)</td>\n",
              "      <td>6.4  (95k)</td>\n",
              "      <td>Action &amp; Adventure, Mystery &amp; Thriller, Drama</td>\n",
              "      <td>1h 45min</td>\n",
              "      <td>United Kingdom, United States</td>\n",
              "      <td>David Ayer</td>\n",
              "    </tr>\n",
              "    <tr>\n",
              "      <th>20</th>\n",
              "      <td>https://www.justwatch.com/in/movie/godzilla-mi...</td>\n",
              "      <td>Godzilla Minus One</td>\n",
              "      <td>(2023)</td>\n",
              "      <td>8.0  (75k)</td>\n",
              "      <td>Science-Fiction, Action &amp; Adventure, Drama, Ho...</td>\n",
              "      <td>2h 5min</td>\n",
              "      <td>Japan</td>\n",
              "      <td>Takashi Yamazaki</td>\n",
              "    </tr>\n",
              "    <tr>\n",
              "      <th>21</th>\n",
              "      <td>https://www.justwatch.com/in/movie/anyone-but-you</td>\n",
              "      <td>Anyone But You</td>\n",
              "      <td>(2023)</td>\n",
              "      <td>6.1  (84k)</td>\n",
              "      <td>Romance, Comedy</td>\n",
              "      <td>1h 44min</td>\n",
              "      <td>United States</td>\n",
              "      <td>Will Gluck</td>\n",
              "    </tr>\n",
              "    <tr>\n",
              "      <th>22</th>\n",
              "      <td>https://www.justwatch.com/in/movie/the-idea-of...</td>\n",
              "      <td>The Idea of You</td>\n",
              "      <td>(2024)</td>\n",
              "      <td>6.4  (35k)</td>\n",
              "      <td>Romance, Comedy, Drama</td>\n",
              "      <td>1h 56min</td>\n",
              "      <td>United States</td>\n",
              "      <td>Michael Showalter</td>\n",
              "    </tr>\n",
              "    <tr>\n",
              "      <th>23</th>\n",
              "      <td>https://www.justwatch.com/in/movie/dune-2021</td>\n",
              "      <td>Dune</td>\n",
              "      <td>(2021)</td>\n",
              "      <td>8.0  (866k)</td>\n",
              "      <td>Science-Fiction, Action &amp; Adventure, Drama</td>\n",
              "      <td>2h 35min</td>\n",
              "      <td>United States</td>\n",
              "      <td>Denis Villeneuve</td>\n",
              "    </tr>\n",
              "    <tr>\n",
              "      <th>24</th>\n",
              "      <td>https://www.justwatch.com/in/movie/zara-hatke-...</td>\n",
              "      <td>Zara Hatke Zara Bachke</td>\n",
              "      <td>(2023)</td>\n",
              "      <td>6.3  (14k)</td>\n",
              "      <td>Comedy, Drama, Romance, Kids &amp; Family</td>\n",
              "      <td>2h 20min</td>\n",
              "      <td>India</td>\n",
              "      <td>Laxman Utekar</td>\n",
              "    </tr>\n",
              "    <tr>\n",
              "      <th>25</th>\n",
              "      <td>https://www.justwatch.com/in/movie/animal-2022</td>\n",
              "      <td>Animal</td>\n",
              "      <td>(2023)</td>\n",
              "      <td>6.2  (91k)</td>\n",
              "      <td>Action &amp; Adventure, Crime, Drama, Mystery &amp; Th...</td>\n",
              "      <td>3h 21min</td>\n",
              "      <td>India</td>\n",
              "      <td>Sandeep Reddy Vanga</td>\n",
              "    </tr>\n",
              "    <tr>\n",
              "      <th>26</th>\n",
              "      <td>https://www.justwatch.com/in/movie/12th-fail</td>\n",
              "      <td>12th Fail</td>\n",
              "      <td>(2023)</td>\n",
              "      <td>8.9  (115k)</td>\n",
              "      <td>Drama</td>\n",
              "      <td>2h 27min</td>\n",
              "      <td>India</td>\n",
              "      <td>Vidhu Vinod Chopra</td>\n",
              "    </tr>\n",
              "    <tr>\n",
              "      <th>27</th>\n",
              "      <td>https://www.justwatch.com/in/movie/777-charlie</td>\n",
              "      <td>777 Charlie</td>\n",
              "      <td>(2022)</td>\n",
              "      <td>8.7  (40k)</td>\n",
              "      <td>Comedy, Drama, Action &amp; Adventure</td>\n",
              "      <td>2h 46min</td>\n",
              "      <td>India</td>\n",
              "      <td>Kiranraj K.</td>\n",
              "    </tr>\n",
              "    <tr>\n",
              "      <th>28</th>\n",
              "      <td>https://www.justwatch.com/in/movie/amar-singh-...</td>\n",
              "      <td>Amar Singh Chamkila</td>\n",
              "      <td>(2024)</td>\n",
              "      <td>8.0  (11k)</td>\n",
              "      <td>Music &amp; Musical, Romance, Drama</td>\n",
              "      <td>2h 25min</td>\n",
              "      <td>India</td>\n",
              "      <td>Imtiaz Ali</td>\n",
              "    </tr>\n",
              "    <tr>\n",
              "      <th>29</th>\n",
              "      <td>https://www.justwatch.com/in/movie/anatomie-du...</td>\n",
              "      <td>Anatomy of a Fall</td>\n",
              "      <td>(2023)</td>\n",
              "      <td>7.7  (128k)</td>\n",
              "      <td>Mystery &amp; Thriller, Crime, Drama</td>\n",
              "      <td>2h 32min</td>\n",
              "      <td>France</td>\n",
              "      <td>Justine Triet</td>\n",
              "    </tr>\n",
              "    <tr>\n",
              "      <th>30</th>\n",
              "      <td>https://www.justwatch.com/in/movie/madame-web</td>\n",
              "      <td>Madame Web</td>\n",
              "      <td>(2024)</td>\n",
              "      <td>3.9  (62k)</td>\n",
              "      <td>Fantasy, Action &amp; Adventure, Science-Fiction, ...</td>\n",
              "      <td>1h 56min</td>\n",
              "      <td>United States</td>\n",
              "      <td>S.J. Clarkson</td>\n",
              "    </tr>\n",
              "    <tr>\n",
              "      <th>31</th>\n",
              "      <td>https://www.justwatch.com/in/movie/salaar</td>\n",
              "      <td>Salaar</td>\n",
              "      <td>(2023)</td>\n",
              "      <td>6.5  (64k)</td>\n",
              "      <td>Mystery &amp; Thriller, Action &amp; Adventure, Crime,...</td>\n",
              "      <td>2h 55min</td>\n",
              "      <td>India</td>\n",
              "      <td>Prashanth Neel</td>\n",
              "    </tr>\n",
              "    <tr>\n",
              "      <th>32</th>\n",
              "      <td>https://www.justwatch.com/in/movie/rise-of-the...</td>\n",
              "      <td>Rise of the Planet of the Apes</td>\n",
              "      <td>(2011)</td>\n",
              "      <td>7.6  (567k)</td>\n",
              "      <td>Mystery &amp; Thriller, Drama, Action &amp; Adventure,...</td>\n",
              "      <td>1h 44min</td>\n",
              "      <td>United States, United Kingdom</td>\n",
              "      <td>Rupert Wyatt</td>\n",
              "    </tr>\n",
              "    <tr>\n",
              "      <th>33</th>\n",
              "      <td>https://www.justwatch.com/in/movie/crakk-jeete...</td>\n",
              "      <td>Crakk: Jeetega... Toh Jiyegaa</td>\n",
              "      <td>(2024)</td>\n",
              "      <td>4.9  (5k)</td>\n",
              "      <td>Mystery &amp; Thriller, Action &amp; Adventure, Sport</td>\n",
              "      <td>2h 34min</td>\n",
              "      <td>India</td>\n",
              "      <td>Aditya Datt</td>\n",
              "    </tr>\n",
              "    <tr>\n",
              "      <th>34</th>\n",
              "      <td>https://www.justwatch.com/in/movie/the-raid</td>\n",
              "      <td>The Raid</td>\n",
              "      <td>(2012)</td>\n",
              "      <td>7.6  (217k)</td>\n",
              "      <td>Action &amp; Adventure, Mystery &amp; Thriller, Crime</td>\n",
              "      <td>1h 41min</td>\n",
              "      <td>Indonesia, United States, France</td>\n",
              "      <td>Gareth Evans</td>\n",
              "    </tr>\n",
              "    <tr>\n",
              "      <th>35</th>\n",
              "      <td>https://www.justwatch.com/in/movie/the-fall-guy</td>\n",
              "      <td>The Fall Guy</td>\n",
              "      <td>(2024)</td>\n",
              "      <td>7.2  (51k)</td>\n",
              "      <td>Action &amp; Adventure, Comedy, Drama</td>\n",
              "      <td>2h 6min</td>\n",
              "      <td>Canada, United States, Australia</td>\n",
              "      <td>David Leitch</td>\n",
              "    </tr>\n",
              "    <tr>\n",
              "      <th>36</th>\n",
              "      <td>https://www.justwatch.com/in/movie/sam-bahadur</td>\n",
              "      <td>Sam Bahadur</td>\n",
              "      <td>(2023)</td>\n",
              "      <td>7.7  (16k)</td>\n",
              "      <td>Drama, War &amp; Military, History</td>\n",
              "      <td>2h 30min</td>\n",
              "      <td>India</td>\n",
              "      <td>Meghna Gulzar</td>\n",
              "    </tr>\n",
              "    <tr>\n",
              "      <th>37</th>\n",
              "      <td>https://www.justwatch.com/in/movie/365-days</td>\n",
              "      <td>365 Days</td>\n",
              "      <td>(2020)</td>\n",
              "      <td>3.3  (98k)</td>\n",
              "      <td>Drama, Romance, Made in Europe</td>\n",
              "      <td>1h 54min</td>\n",
              "      <td>Poland</td>\n",
              "      <td>Tomasz Mandes ,  Barbara Białowąs</td>\n",
              "    </tr>\n",
              "    <tr>\n",
              "      <th>38</th>\n",
              "      <td>https://www.justwatch.com/in/movie/mad-max-fur...</td>\n",
              "      <td>Mad Max: Fury Road</td>\n",
              "      <td>(2015)</td>\n",
              "      <td>8.1  (1m)</td>\n",
              "      <td>Action &amp; Adventure, Science-Fiction, Mystery &amp;...</td>\n",
              "      <td>2h 1min</td>\n",
              "      <td>Australia, United States</td>\n",
              "      <td>George Miller</td>\n",
              "    </tr>\n",
              "    <tr>\n",
              "      <th>39</th>\n",
              "      <td>https://www.justwatch.com/in/movie/dj-tillu</td>\n",
              "      <td>DJ Tillu</td>\n",
              "      <td>(2022)</td>\n",
              "      <td>7.2  (3k)</td>\n",
              "      <td>Comedy, Crime, Romance, Action &amp; Adventure</td>\n",
              "      <td>2h 1min</td>\n",
              "      <td>India</td>\n",
              "      <td>Vimal Krishna</td>\n",
              "    </tr>\n",
              "  </tbody>\n",
              "</table>\n",
              "</div>\n",
              "    <div class=\"colab-df-buttons\">\n",
              "\n",
              "  <div class=\"colab-df-container\">\n",
              "    <button class=\"colab-df-convert\" onclick=\"convertToInteractive('df-75557640-7d25-4c39-95fc-f26d072fbd4c')\"\n",
              "            title=\"Convert this dataframe to an interactive table.\"\n",
              "            style=\"display:none;\">\n",
              "\n",
              "  <svg xmlns=\"http://www.w3.org/2000/svg\" height=\"24px\" viewBox=\"0 -960 960 960\">\n",
              "    <path d=\"M120-120v-720h720v720H120Zm60-500h600v-160H180v160Zm220 220h160v-160H400v160Zm0 220h160v-160H400v160ZM180-400h160v-160H180v160Zm440 0h160v-160H620v160ZM180-180h160v-160H180v160Zm440 0h160v-160H620v160Z\"/>\n",
              "  </svg>\n",
              "    </button>\n",
              "\n",
              "  <style>\n",
              "    .colab-df-container {\n",
              "      display:flex;\n",
              "      gap: 12px;\n",
              "    }\n",
              "\n",
              "    .colab-df-convert {\n",
              "      background-color: #E8F0FE;\n",
              "      border: none;\n",
              "      border-radius: 50%;\n",
              "      cursor: pointer;\n",
              "      display: none;\n",
              "      fill: #1967D2;\n",
              "      height: 32px;\n",
              "      padding: 0 0 0 0;\n",
              "      width: 32px;\n",
              "    }\n",
              "\n",
              "    .colab-df-convert:hover {\n",
              "      background-color: #E2EBFA;\n",
              "      box-shadow: 0px 1px 2px rgba(60, 64, 67, 0.3), 0px 1px 3px 1px rgba(60, 64, 67, 0.15);\n",
              "      fill: #174EA6;\n",
              "    }\n",
              "\n",
              "    .colab-df-buttons div {\n",
              "      margin-bottom: 4px;\n",
              "    }\n",
              "\n",
              "    [theme=dark] .colab-df-convert {\n",
              "      background-color: #3B4455;\n",
              "      fill: #D2E3FC;\n",
              "    }\n",
              "\n",
              "    [theme=dark] .colab-df-convert:hover {\n",
              "      background-color: #434B5C;\n",
              "      box-shadow: 0px 1px 3px 1px rgba(0, 0, 0, 0.15);\n",
              "      filter: drop-shadow(0px 1px 2px rgba(0, 0, 0, 0.3));\n",
              "      fill: #FFFFFF;\n",
              "    }\n",
              "  </style>\n",
              "\n",
              "    <script>\n",
              "      const buttonEl =\n",
              "        document.querySelector('#df-75557640-7d25-4c39-95fc-f26d072fbd4c button.colab-df-convert');\n",
              "      buttonEl.style.display =\n",
              "        google.colab.kernel.accessAllowed ? 'block' : 'none';\n",
              "\n",
              "      async function convertToInteractive(key) {\n",
              "        const element = document.querySelector('#df-75557640-7d25-4c39-95fc-f26d072fbd4c');\n",
              "        const dataTable =\n",
              "          await google.colab.kernel.invokeFunction('convertToInteractive',\n",
              "                                                    [key], {});\n",
              "        if (!dataTable) return;\n",
              "\n",
              "        const docLinkHtml = 'Like what you see? Visit the ' +\n",
              "          '<a target=\"_blank\" href=https://colab.research.google.com/notebooks/data_table.ipynb>data table notebook</a>'\n",
              "          + ' to learn more about interactive tables.';\n",
              "        element.innerHTML = '';\n",
              "        dataTable['output_type'] = 'display_data';\n",
              "        await google.colab.output.renderOutput(dataTable, element);\n",
              "        const docLink = document.createElement('div');\n",
              "        docLink.innerHTML = docLinkHtml;\n",
              "        element.appendChild(docLink);\n",
              "      }\n",
              "    </script>\n",
              "  </div>\n",
              "\n",
              "\n",
              "<div id=\"df-6980b736-4a6a-4da0-863e-dabd69071907\">\n",
              "  <button class=\"colab-df-quickchart\" onclick=\"quickchart('df-6980b736-4a6a-4da0-863e-dabd69071907')\"\n",
              "            title=\"Suggest charts\"\n",
              "            style=\"display:none;\">\n",
              "\n",
              "<svg xmlns=\"http://www.w3.org/2000/svg\" height=\"24px\"viewBox=\"0 0 24 24\"\n",
              "     width=\"24px\">\n",
              "    <g>\n",
              "        <path d=\"M19 3H5c-1.1 0-2 .9-2 2v14c0 1.1.9 2 2 2h14c1.1 0 2-.9 2-2V5c0-1.1-.9-2-2-2zM9 17H7v-7h2v7zm4 0h-2V7h2v10zm4 0h-2v-4h2v4z\"/>\n",
              "    </g>\n",
              "</svg>\n",
              "  </button>\n",
              "\n",
              "<style>\n",
              "  .colab-df-quickchart {\n",
              "      --bg-color: #E8F0FE;\n",
              "      --fill-color: #1967D2;\n",
              "      --hover-bg-color: #E2EBFA;\n",
              "      --hover-fill-color: #174EA6;\n",
              "      --disabled-fill-color: #AAA;\n",
              "      --disabled-bg-color: #DDD;\n",
              "  }\n",
              "\n",
              "  [theme=dark] .colab-df-quickchart {\n",
              "      --bg-color: #3B4455;\n",
              "      --fill-color: #D2E3FC;\n",
              "      --hover-bg-color: #434B5C;\n",
              "      --hover-fill-color: #FFFFFF;\n",
              "      --disabled-bg-color: #3B4455;\n",
              "      --disabled-fill-color: #666;\n",
              "  }\n",
              "\n",
              "  .colab-df-quickchart {\n",
              "    background-color: var(--bg-color);\n",
              "    border: none;\n",
              "    border-radius: 50%;\n",
              "    cursor: pointer;\n",
              "    display: none;\n",
              "    fill: var(--fill-color);\n",
              "    height: 32px;\n",
              "    padding: 0;\n",
              "    width: 32px;\n",
              "  }\n",
              "\n",
              "  .colab-df-quickchart:hover {\n",
              "    background-color: var(--hover-bg-color);\n",
              "    box-shadow: 0 1px 2px rgba(60, 64, 67, 0.3), 0 1px 3px 1px rgba(60, 64, 67, 0.15);\n",
              "    fill: var(--button-hover-fill-color);\n",
              "  }\n",
              "\n",
              "  .colab-df-quickchart-complete:disabled,\n",
              "  .colab-df-quickchart-complete:disabled:hover {\n",
              "    background-color: var(--disabled-bg-color);\n",
              "    fill: var(--disabled-fill-color);\n",
              "    box-shadow: none;\n",
              "  }\n",
              "\n",
              "  .colab-df-spinner {\n",
              "    border: 2px solid var(--fill-color);\n",
              "    border-color: transparent;\n",
              "    border-bottom-color: var(--fill-color);\n",
              "    animation:\n",
              "      spin 1s steps(1) infinite;\n",
              "  }\n",
              "\n",
              "  @keyframes spin {\n",
              "    0% {\n",
              "      border-color: transparent;\n",
              "      border-bottom-color: var(--fill-color);\n",
              "      border-left-color: var(--fill-color);\n",
              "    }\n",
              "    20% {\n",
              "      border-color: transparent;\n",
              "      border-left-color: var(--fill-color);\n",
              "      border-top-color: var(--fill-color);\n",
              "    }\n",
              "    30% {\n",
              "      border-color: transparent;\n",
              "      border-left-color: var(--fill-color);\n",
              "      border-top-color: var(--fill-color);\n",
              "      border-right-color: var(--fill-color);\n",
              "    }\n",
              "    40% {\n",
              "      border-color: transparent;\n",
              "      border-right-color: var(--fill-color);\n",
              "      border-top-color: var(--fill-color);\n",
              "    }\n",
              "    60% {\n",
              "      border-color: transparent;\n",
              "      border-right-color: var(--fill-color);\n",
              "    }\n",
              "    80% {\n",
              "      border-color: transparent;\n",
              "      border-right-color: var(--fill-color);\n",
              "      border-bottom-color: var(--fill-color);\n",
              "    }\n",
              "    90% {\n",
              "      border-color: transparent;\n",
              "      border-bottom-color: var(--fill-color);\n",
              "    }\n",
              "  }\n",
              "</style>\n",
              "\n",
              "  <script>\n",
              "    async function quickchart(key) {\n",
              "      const quickchartButtonEl =\n",
              "        document.querySelector('#' + key + ' button');\n",
              "      quickchartButtonEl.disabled = true;  // To prevent multiple clicks.\n",
              "      quickchartButtonEl.classList.add('colab-df-spinner');\n",
              "      try {\n",
              "        const charts = await google.colab.kernel.invokeFunction(\n",
              "            'suggestCharts', [key], {});\n",
              "      } catch (error) {\n",
              "        console.error('Error during call to suggestCharts:', error);\n",
              "      }\n",
              "      quickchartButtonEl.classList.remove('colab-df-spinner');\n",
              "      quickchartButtonEl.classList.add('colab-df-quickchart-complete');\n",
              "    }\n",
              "    (() => {\n",
              "      let quickchartButtonEl =\n",
              "        document.querySelector('#df-6980b736-4a6a-4da0-863e-dabd69071907 button');\n",
              "      quickchartButtonEl.style.display =\n",
              "        google.colab.kernel.accessAllowed ? 'block' : 'none';\n",
              "    })();\n",
              "  </script>\n",
              "</div>\n",
              "\n",
              "  <div id=\"id_a8ebf718-833c-43f6-81e0-b79a41b07647\">\n",
              "    <style>\n",
              "      .colab-df-generate {\n",
              "        background-color: #E8F0FE;\n",
              "        border: none;\n",
              "        border-radius: 50%;\n",
              "        cursor: pointer;\n",
              "        display: none;\n",
              "        fill: #1967D2;\n",
              "        height: 32px;\n",
              "        padding: 0 0 0 0;\n",
              "        width: 32px;\n",
              "      }\n",
              "\n",
              "      .colab-df-generate:hover {\n",
              "        background-color: #E2EBFA;\n",
              "        box-shadow: 0px 1px 2px rgba(60, 64, 67, 0.3), 0px 1px 3px 1px rgba(60, 64, 67, 0.15);\n",
              "        fill: #174EA6;\n",
              "      }\n",
              "\n",
              "      [theme=dark] .colab-df-generate {\n",
              "        background-color: #3B4455;\n",
              "        fill: #D2E3FC;\n",
              "      }\n",
              "\n",
              "      [theme=dark] .colab-df-generate:hover {\n",
              "        background-color: #434B5C;\n",
              "        box-shadow: 0px 1px 3px 1px rgba(0, 0, 0, 0.15);\n",
              "        filter: drop-shadow(0px 1px 2px rgba(0, 0, 0, 0.3));\n",
              "        fill: #FFFFFF;\n",
              "      }\n",
              "    </style>\n",
              "    <button class=\"colab-df-generate\" onclick=\"generateWithVariable('movie_data')\"\n",
              "            title=\"Generate code using this dataframe.\"\n",
              "            style=\"display:none;\">\n",
              "\n",
              "  <svg xmlns=\"http://www.w3.org/2000/svg\" height=\"24px\"viewBox=\"0 0 24 24\"\n",
              "       width=\"24px\">\n",
              "    <path d=\"M7,19H8.4L18.45,9,17,7.55,7,17.6ZM5,21V16.75L18.45,3.32a2,2,0,0,1,2.83,0l1.4,1.43a1.91,1.91,0,0,1,.58,1.4,1.91,1.91,0,0,1-.58,1.4L9.25,21ZM18.45,9,17,7.55Zm-12,3A5.31,5.31,0,0,0,4.9,8.1,5.31,5.31,0,0,0,1,6.5,5.31,5.31,0,0,0,4.9,4.9,5.31,5.31,0,0,0,6.5,1,5.31,5.31,0,0,0,8.1,4.9,5.31,5.31,0,0,0,12,6.5,5.46,5.46,0,0,0,6.5,12Z\"/>\n",
              "  </svg>\n",
              "    </button>\n",
              "    <script>\n",
              "      (() => {\n",
              "      const buttonEl =\n",
              "        document.querySelector('#id_a8ebf718-833c-43f6-81e0-b79a41b07647 button.colab-df-generate');\n",
              "      buttonEl.style.display =\n",
              "        google.colab.kernel.accessAllowed ? 'block' : 'none';\n",
              "\n",
              "      buttonEl.onclick = () => {\n",
              "        google.colab.notebook.generateWithVariable('movie_data');\n",
              "      }\n",
              "      })();\n",
              "    </script>\n",
              "  </div>\n",
              "\n",
              "    </div>\n",
              "  </div>\n"
            ],
            "application/vnd.google.colaboratory.intrinsic+json": {
              "type": "dataframe",
              "variable_name": "movie_data",
              "summary": "{\n  \"name\": \"movie_data\",\n  \"rows\": 40,\n  \"fields\": [\n    {\n      \"column\": \"Movie_link\",\n      \"properties\": {\n        \"dtype\": \"string\",\n        \"num_unique_values\": 40,\n        \"samples\": [\n          \"https://www.justwatch.com/in/movie/the-beekeeper-2024\",\n          \"https://www.justwatch.com/in/movie/tillu-square\",\n          \"https://www.justwatch.com/in/movie/untitled-shahid-kapoor-kriti-sanon-film\"\n        ],\n        \"semantic_type\": \"\",\n        \"description\": \"\"\n      }\n    },\n    {\n      \"column\": \"movie_title\",\n      \"properties\": {\n        \"dtype\": \"string\",\n        \"num_unique_values\": 40,\n        \"samples\": [\n          \"The Beekeeper\",\n          \"Tillu Square\",\n          \"Teri Baaton Mein Aisa Uljha Jiya\"\n        ],\n        \"semantic_type\": \"\",\n        \"description\": \"\"\n      }\n    },\n    {\n      \"column\": \"release_year\",\n      \"properties\": {\n        \"dtype\": \"category\",\n        \"num_unique_values\": 9,\n        \"samples\": [\n          \"(2020)\",\n          \"(2023)\",\n          \"(2011)\"\n        ],\n        \"semantic_type\": \"\",\n        \"description\": \"\"\n      }\n    },\n    {\n      \"column\": \"rating\",\n      \"properties\": {\n        \"dtype\": \"string\",\n        \"num_unique_values\": 39,\n        \"samples\": [\n          \"7.6  (217k)\",\n          \"3.3  (98k)\",\n          \"6.7  (43k)\"\n        ],\n        \"semantic_type\": \"\",\n        \"description\": \"\"\n      }\n    },\n    {\n      \"column\": \"genres\",\n      \"properties\": {\n        \"dtype\": \"string\",\n        \"num_unique_values\": 36,\n        \"samples\": [\n          \"Comedy, Crime, Romance, Action & Adventure\",\n          \"Comedy, Crime, Drama, Romance, Mystery & Thriller\",\n          \"Fantasy, Action & Adventure, Science-Fiction, Mystery & Thriller\"\n        ],\n        \"semantic_type\": \"\",\n        \"description\": \"\"\n      }\n    },\n    {\n      \"column\": \"runtime\",\n      \"properties\": {\n        \"dtype\": \"string\",\n        \"num_unique_values\": 34,\n        \"samples\": [\n          \"2h 17min\",\n          \"1h 44min\",\n          \"2h 32min\"\n        ],\n        \"semantic_type\": \"\",\n        \"description\": \"\"\n      }\n    },\n    {\n      \"column\": \"country\",\n      \"properties\": {\n        \"dtype\": \"category\",\n        \"num_unique_values\": 13,\n        \"samples\": [\n          \"Poland\",\n          \"Indonesia, United States, France\",\n          \"India\"\n        ],\n        \"semantic_type\": \"\",\n        \"description\": \"\"\n      }\n    },\n    {\n      \"column\": \"director\",\n      \"properties\": {\n        \"dtype\": \"string\",\n        \"num_unique_values\": 39,\n        \"samples\": [\n          \"Gareth Evans\",\n          \"Tomasz Mandes ,  Barbara Bia\\u0142ow\\u0105s\",\n          \"Vikas Bahl\"\n        ],\n        \"semantic_type\": \"\",\n        \"description\": \"\"\n      }\n    }\n  ]\n}"
            }
          },
          "metadata": {},
          "execution_count": 55
        }
      ],
      "source": [
        "movie_data"
      ]
    },
    {
      "cell_type": "code",
      "execution_count": 56,
      "id": "e0941751",
      "metadata": {
        "colab": {
          "base_uri": "https://localhost:8080/"
        },
        "id": "e0941751",
        "outputId": "0858cf1d-e8cd-417c-ade6-e5544e8dfc14"
      },
      "outputs": [
        {
          "output_type": "execute_result",
          "data": {
            "text/plain": [
              "Index(['Movie_link', 'movie_title', 'release_year', 'rating', 'genres',\n",
              "       'runtime', 'country', 'director'],\n",
              "      dtype='object')"
            ]
          },
          "metadata": {},
          "execution_count": 56
        }
      ],
      "source": [
        "movie_data.columns"
      ]
    },
    {
      "cell_type": "code",
      "execution_count": 57,
      "id": "243ecf3b",
      "metadata": {
        "id": "243ecf3b"
      },
      "outputs": [],
      "source": []
    }
  ],
  "metadata": {
    "kernelspec": {
      "display_name": "Python 3",
      "name": "python3"
    },
    "language_info": {
      "codemirror_mode": {
        "name": "ipython",
        "version": 3
      },
      "file_extension": ".py",
      "mimetype": "text/x-python",
      "name": "python",
      "nbconvert_exporter": "python",
      "pygments_lexer": "ipython3",
      "version": "3.11.4"
    },
    "colab": {
      "provenance": [],
      "gpuType": "T4",
      "include_colab_link": true
    },
    "accelerator": "GPU"
  },
  "nbformat": 4,
  "nbformat_minor": 5
}